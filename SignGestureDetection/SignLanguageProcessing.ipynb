{
 "cells": [
  {
   "cell_type": "markdown",
   "id": "1e712584",
   "metadata": {
    "scrolled": true
   },
   "source": [
    "# Project pre-sets"
   ]
  },
  {
   "cell_type": "code",
   "execution_count": 3,
   "id": "c76b8b81",
   "metadata": {},
   "outputs": [
    {
     "name": "stdout",
     "output_type": "stream",
     "text": [
      "\u001b[33mWARNING: Value for scheme.headers does not match. Please report this to <https://github.com/pypa/pip/issues/9617>\n",
      "distutils: /Users/margaliana/miniforge3/include/python3.9/UNKNOWN\n",
      "sysconfig: /Users/margaliana/miniforge3/include/python3.9\u001b[0m\n",
      "\u001b[33mWARNING: Additional context:\n",
      "user = False\n",
      "home = None\n",
      "root = None\n",
      "prefix = None\u001b[0m\n",
      "Requirement already satisfied: numpy~=1.19.5 in /Users/margaliana/miniforge3/lib/python3.9/site-packages (from -r requirements.txt (line 1)) (1.19.5)\n",
      "Requirement already satisfied: pandas~=1.2.4 in /Users/margaliana/miniforge3/lib/python3.9/site-packages (from -r requirements.txt (line 2)) (1.2.4)\n",
      "Requirement already satisfied: scikit-learn~=0.24.2 in /Users/margaliana/miniforge3/lib/python3.9/site-packages (from -r requirements.txt (line 3)) (0.24.2)\n",
      "Requirement already satisfied: tensorflow~=2.5.0 in /Users/margaliana/miniforge3/lib/python3.9/site-packages (from -r requirements.txt (line 4)) (2.5.0)\n",
      "Requirement already satisfied: scikit-image~=0.18.1 in /Users/margaliana/miniforge3/lib/python3.9/site-packages (from -r requirements.txt (line 5)) (0.18.2)\n",
      "Requirement already satisfied: joblib~=1.0.1 in /Users/margaliana/miniforge3/lib/python3.9/site-packages (from -r requirements.txt (line 6)) (1.0.1)\n",
      "Requirement already satisfied: keras~=2.4.3 in /Users/margaliana/miniforge3/lib/python3.9/site-packages (from -r requirements.txt (line 7)) (2.4.3)\n",
      "Requirement already satisfied: matplotlib~=3.4.2 in /Users/margaliana/miniforge3/lib/python3.9/site-packages (from -r requirements.txt (line 8)) (3.4.2)\n",
      "Requirement already satisfied: xgboost in /Users/margaliana/miniforge3/lib/python3.9/site-packages (from -r requirements.txt (line 9)) (1.4.2)\n",
      "Requirement already satisfied: python-dateutil>=2.7.3 in /Users/margaliana/miniforge3/lib/python3.9/site-packages (from pandas~=1.2.4->-r requirements.txt (line 2)) (2.8.1)\n",
      "Requirement already satisfied: pytz>=2017.3 in /Users/margaliana/miniforge3/lib/python3.9/site-packages (from pandas~=1.2.4->-r requirements.txt (line 2)) (2021.1)\n",
      "Requirement already satisfied: scipy>=0.19.1 in /Users/margaliana/miniforge3/lib/python3.9/site-packages (from scikit-learn~=0.24.2->-r requirements.txt (line 3)) (1.6.3)\n",
      "Requirement already satisfied: threadpoolctl>=2.0.0 in /Users/margaliana/miniforge3/lib/python3.9/site-packages (from scikit-learn~=0.24.2->-r requirements.txt (line 3)) (2.1.0)\n",
      "Requirement already satisfied: wheel~=0.35 in /Users/margaliana/miniforge3/lib/python3.9/site-packages (from tensorflow~=2.5.0->-r requirements.txt (line 4)) (0.36.2)\n",
      "Requirement already satisfied: keras-preprocessing~=1.1.2 in /Users/margaliana/miniforge3/lib/python3.9/site-packages (from tensorflow~=2.5.0->-r requirements.txt (line 4)) (1.1.2)\n",
      "Requirement already satisfied: keras-nightly~=2.5.0.dev in /Users/margaliana/miniforge3/lib/python3.9/site-packages (from tensorflow~=2.5.0->-r requirements.txt (line 4)) (2.5.0.dev2021032900)\n",
      "Requirement already satisfied: gast==0.4.0 in /Users/margaliana/miniforge3/lib/python3.9/site-packages (from tensorflow~=2.5.0->-r requirements.txt (line 4)) (0.4.0)\n",
      "Requirement already satisfied: termcolor~=1.1.0 in /Users/margaliana/miniforge3/lib/python3.9/site-packages (from tensorflow~=2.5.0->-r requirements.txt (line 4)) (1.1.0)\n",
      "Requirement already satisfied: protobuf>=3.9.2 in /Users/margaliana/miniforge3/lib/python3.9/site-packages (from tensorflow~=2.5.0->-r requirements.txt (line 4)) (3.15.8)\n",
      "Requirement already satisfied: wrapt~=1.12.1 in /Users/margaliana/miniforge3/lib/python3.9/site-packages (from tensorflow~=2.5.0->-r requirements.txt (line 4)) (1.12.1)\n",
      "Requirement already satisfied: tensorflow-estimator<2.6.0,>=2.5.0rc0 in /Users/margaliana/miniforge3/lib/python3.9/site-packages (from tensorflow~=2.5.0->-r requirements.txt (line 4)) (2.5.0rc0)\n",
      "Requirement already satisfied: absl-py~=0.10 in /Users/margaliana/miniforge3/lib/python3.9/site-packages (from tensorflow~=2.5.0->-r requirements.txt (line 4)) (0.12.0)\n",
      "Requirement already satisfied: astunparse~=1.6.3 in /Users/margaliana/miniforge3/lib/python3.9/site-packages (from tensorflow~=2.5.0->-r requirements.txt (line 4)) (1.6.3)\n",
      "Requirement already satisfied: typing-extensions~=3.7.4 in /Users/margaliana/miniforge3/lib/python3.9/site-packages (from tensorflow~=2.5.0->-r requirements.txt (line 4)) (3.7.4.3)\n",
      "Requirement already satisfied: flatbuffers~=1.12.0 in /Users/margaliana/miniforge3/lib/python3.9/site-packages (from tensorflow~=2.5.0->-r requirements.txt (line 4)) (1.12)\n",
      "Requirement already satisfied: grpcio~=1.34.0 in /Users/margaliana/miniforge3/lib/python3.9/site-packages (from tensorflow~=2.5.0->-r requirements.txt (line 4)) (1.34.1)\n",
      "Requirement already satisfied: six~=1.15.0 in /Users/margaliana/miniforge3/lib/python3.9/site-packages (from tensorflow~=2.5.0->-r requirements.txt (line 4)) (1.15.0)\n",
      "Requirement already satisfied: google-pasta~=0.2 in /Users/margaliana/miniforge3/lib/python3.9/site-packages (from tensorflow~=2.5.0->-r requirements.txt (line 4)) (0.2.0)\n",
      "Requirement already satisfied: h5py~=3.1.0 in /Users/margaliana/miniforge3/lib/python3.9/site-packages (from tensorflow~=2.5.0->-r requirements.txt (line 4)) (3.1.0)\n",
      "Requirement already satisfied: tensorboard~=2.5 in /Users/margaliana/miniforge3/lib/python3.9/site-packages (from tensorflow~=2.5.0->-r requirements.txt (line 4)) (2.5.0)\n",
      "Requirement already satisfied: opt-einsum~=3.3.0 in /Users/margaliana/miniforge3/lib/python3.9/site-packages (from tensorflow~=2.5.0->-r requirements.txt (line 4)) (3.3.0)\n",
      "Requirement already satisfied: imageio>=2.3.0 in /Users/margaliana/miniforge3/lib/python3.9/site-packages (from scikit-image~=0.18.1->-r requirements.txt (line 5)) (2.9.0)\n",
      "Requirement already satisfied: PyWavelets>=1.1.1 in /Users/margaliana/miniforge3/lib/python3.9/site-packages (from scikit-image~=0.18.1->-r requirements.txt (line 5)) (1.1.1)\n",
      "Requirement already satisfied: tifffile>=2019.7.26 in /Users/margaliana/miniforge3/lib/python3.9/site-packages (from scikit-image~=0.18.1->-r requirements.txt (line 5)) (2021.7.30)\n",
      "Requirement already satisfied: networkx>=2.0 in /Users/margaliana/miniforge3/lib/python3.9/site-packages (from scikit-image~=0.18.1->-r requirements.txt (line 5)) (2.6.2)\n",
      "Requirement already satisfied: pillow!=7.1.0,!=7.1.1,>=4.3.0 in /Users/margaliana/miniforge3/lib/python3.9/site-packages (from scikit-image~=0.18.1->-r requirements.txt (line 5)) (8.3.1)\n",
      "Requirement already satisfied: pyyaml in /Users/margaliana/miniforge3/lib/python3.9/site-packages (from keras~=2.4.3->-r requirements.txt (line 7)) (5.4.1)\n",
      "Requirement already satisfied: kiwisolver>=1.0.1 in /Users/margaliana/miniforge3/lib/python3.9/site-packages (from matplotlib~=3.4.2->-r requirements.txt (line 8)) (1.3.1)\n",
      "Requirement already satisfied: pyparsing>=2.2.1 in /Users/margaliana/miniforge3/lib/python3.9/site-packages (from matplotlib~=3.4.2->-r requirements.txt (line 8)) (2.4.7)\n",
      "Requirement already satisfied: cycler>=0.10 in /Users/margaliana/miniforge3/lib/python3.9/site-packages (from matplotlib~=3.4.2->-r requirements.txt (line 8)) (0.10.0)\n",
      "Requirement already satisfied: tensorboard-plugin-wit>=1.6.0 in /Users/margaliana/miniforge3/lib/python3.9/site-packages (from tensorboard~=2.5->tensorflow~=2.5.0->-r requirements.txt (line 4)) (1.8.0)\n",
      "Requirement already satisfied: tensorboard-data-server<0.7.0,>=0.6.0 in /Users/margaliana/miniforge3/lib/python3.9/site-packages (from tensorboard~=2.5->tensorflow~=2.5.0->-r requirements.txt (line 4)) (0.6.0)\n",
      "Requirement already satisfied: werkzeug>=0.11.15 in /Users/margaliana/miniforge3/lib/python3.9/site-packages (from tensorboard~=2.5->tensorflow~=2.5.0->-r requirements.txt (line 4)) (1.0.1)\n",
      "Requirement already satisfied: google-auth-oauthlib<0.5,>=0.4.1 in /Users/margaliana/miniforge3/lib/python3.9/site-packages (from tensorboard~=2.5->tensorflow~=2.5.0->-r requirements.txt (line 4)) (0.4.4)\n",
      "Requirement already satisfied: requests<3,>=2.21.0 in /Users/margaliana/miniforge3/lib/python3.9/site-packages (from tensorboard~=2.5->tensorflow~=2.5.0->-r requirements.txt (line 4)) (2.25.1)\n",
      "Requirement already satisfied: google-auth<2,>=1.6.3 in /Users/margaliana/miniforge3/lib/python3.9/site-packages (from tensorboard~=2.5->tensorflow~=2.5.0->-r requirements.txt (line 4)) (1.30.0)\n",
      "Requirement already satisfied: markdown>=2.6.8 in /Users/margaliana/miniforge3/lib/python3.9/site-packages (from tensorboard~=2.5->tensorflow~=2.5.0->-r requirements.txt (line 4)) (3.3.4)\n",
      "Requirement already satisfied: setuptools>=41.0.0 in /Users/margaliana/miniforge3/lib/python3.9/site-packages (from tensorboard~=2.5->tensorflow~=2.5.0->-r requirements.txt (line 4)) (49.6.0.post20210108)\n",
      "Requirement already satisfied: cachetools<5.0,>=2.0.0 in /Users/margaliana/miniforge3/lib/python3.9/site-packages (from google-auth<2,>=1.6.3->tensorboard~=2.5->tensorflow~=2.5.0->-r requirements.txt (line 4)) (4.2.2)\n",
      "Requirement already satisfied: pyasn1-modules>=0.2.1 in /Users/margaliana/miniforge3/lib/python3.9/site-packages (from google-auth<2,>=1.6.3->tensorboard~=2.5->tensorflow~=2.5.0->-r requirements.txt (line 4)) (0.2.8)\n",
      "Requirement already satisfied: rsa<5,>=3.1.4 in /Users/margaliana/miniforge3/lib/python3.9/site-packages (from google-auth<2,>=1.6.3->tensorboard~=2.5->tensorflow~=2.5.0->-r requirements.txt (line 4)) (4.7.2)\n",
      "Requirement already satisfied: requests-oauthlib>=0.7.0 in /Users/margaliana/miniforge3/lib/python3.9/site-packages (from google-auth-oauthlib<0.5,>=0.4.1->tensorboard~=2.5->tensorflow~=2.5.0->-r requirements.txt (line 4)) (1.3.0)\n"
     ]
    },
    {
     "name": "stdout",
     "output_type": "stream",
     "text": [
      "Requirement already satisfied: pyasn1<0.5.0,>=0.4.6 in /Users/margaliana/miniforge3/lib/python3.9/site-packages (from pyasn1-modules>=0.2.1->google-auth<2,>=1.6.3->tensorboard~=2.5->tensorflow~=2.5.0->-r requirements.txt (line 4)) (0.4.8)\n",
      "Requirement already satisfied: certifi>=2017.4.17 in /Users/margaliana/miniforge3/lib/python3.9/site-packages (from requests<3,>=2.21.0->tensorboard~=2.5->tensorflow~=2.5.0->-r requirements.txt (line 4)) (2020.12.5)\n",
      "Requirement already satisfied: chardet<5,>=3.0.2 in /Users/margaliana/miniforge3/lib/python3.9/site-packages (from requests<3,>=2.21.0->tensorboard~=2.5->tensorflow~=2.5.0->-r requirements.txt (line 4)) (4.0.0)\n",
      "Requirement already satisfied: urllib3<1.27,>=1.21.1 in /Users/margaliana/miniforge3/lib/python3.9/site-packages (from requests<3,>=2.21.0->tensorboard~=2.5->tensorflow~=2.5.0->-r requirements.txt (line 4)) (1.26.4)\n",
      "Requirement already satisfied: idna<3,>=2.5 in /Users/margaliana/miniforge3/lib/python3.9/site-packages (from requests<3,>=2.21.0->tensorboard~=2.5->tensorflow~=2.5.0->-r requirements.txt (line 4)) (2.10)\n",
      "Requirement already satisfied: oauthlib>=3.0.0 in /Users/margaliana/miniforge3/lib/python3.9/site-packages (from requests-oauthlib>=0.7.0->google-auth-oauthlib<0.5,>=0.4.1->tensorboard~=2.5->tensorflow~=2.5.0->-r requirements.txt (line 4)) (3.1.0)\n",
      "\u001b[33mWARNING: Value for scheme.headers does not match. Please report this to <https://github.com/pypa/pip/issues/9617>\n",
      "distutils: /Users/margaliana/miniforge3/include/python3.9/UNKNOWN\n",
      "sysconfig: /Users/margaliana/miniforge3/include/python3.9\u001b[0m\n",
      "\u001b[33mWARNING: Additional context:\n",
      "user = False\n",
      "home = None\n",
      "root = None\n",
      "prefix = None\u001b[0m\n",
      "Note: you may need to restart the kernel to use updated packages.\n"
     ]
    }
   ],
   "source": [
    "pip install -r requirements.txt "
   ]
  },
  {
   "cell_type": "markdown",
   "id": "e0fe1f1a",
   "metadata": {},
   "source": [
    "# Executions"
   ]
  },
  {
   "cell_type": "markdown",
   "id": "74ce1642",
   "metadata": {},
   "source": [
    "## Execute the Help strategy"
   ]
  },
  {
   "cell_type": "code",
   "execution_count": 43,
   "id": "fdf7c6d8",
   "metadata": {},
   "outputs": [
    {
     "name": "stdout",
     "output_type": "stream",
     "text": [
      "[INFO]: Strategy selected: --help\r\n",
      "This project contains three different strategies:\r\n",
      "* Save Database:\r\n",
      "\tThis strategy will save all the images, from the directory selected inside the directory: Assets/Dataset/Images, in two pickles (test and train). To execute it you need the following arguments:\r\n",
      " \t\t--saveDatabase <string> <string> <boolean> <boolean>\r\n",
      "\t· The first string has to contain the name of the pickel to use, for example:\r\n",
      "\t\t\tsign_gesture_gray_150x150px\r\n",
      "\t· The second string indicates witch model to use, the possibilities are:\r\n",
      "\t\t* GestureImageData\r\n",
      "\t\t* GestureImagePreProcessedData\r\n",
      "\t\t* AslAlphabet\r\n",
      "\t· The first boolean will be true if the directory GestureImageData contains the images separated in test and train.\r\n",
      "\t· The second boolean will be true if the dataset has to be saved in gray colors.\r\n",
      "\r\n",
      "* Train Neural Network:\r\n",
      "\tThis strategy will train an specific neural network based on the models stored in the Dataset/Pickels. To execute it you need the following arguments:\r\n",
      " \t\t--trainNeuralNetwork <string> <string> ...\r\n",
      "\t· The first string specifies the type of Neural Network to train, the possibilities are:\r\n",
      "\t\t* cnn: Convolutional Neural Network.\r\n",
      "\t· The other strings have to contain the name of the directories storing the pickels. For example, if the pickel you want to use is in the path:\r\n",
      " \t\t\tAssets/Dataset/Pickels/sign_gesture_gray_150x150px/sign_gesture_gray_150x150px_train.pkl\r\n",
      " \t  You will have to enter:\r\n",
      "\t\t\tsign_gesture_gray_150x150px\r\n",
      "\t If you want to use more than one pickel you can do it by adding all their names in the following format:\r\n",
      "\t\t\t--trainNeuralNetwork nn sign_gesture_gray_150x150px sign_gesture_gray_150x150px sign_gesture_optimizer_150x150px\r\n",
      "\r\n",
      " * Accuracy Neural Network:\r\n",
      "\tThis strategy will show the accuracy of the Neural Network selected. In order to be able to do it, it will need to execute the Train Neural Network before, so a model is stored in the Assets/NeuralNetworkModel directory. To execute it you need the following arguments:\r\n",
      " \t\t--accuracyNeuralNetwork <string> <string>\r\n",
      "\t· The first string specifies the type of Neural Network to train, the possibilities are:\r\n",
      "\t\t* nn: Basic Neural Network.\r\n",
      " \t\t* cnn: Convolutional Neural Network.\r\n",
      "\t· The secondstring will contain the name of the file storing the neural network model. This model will be in the /Users/margaliana/Documents/Salle/TFG/SignGestureDetection/../Assets/NeuralNetworkModel/path. Once the train strategy has been executed, the name of the new model will be displayed in the console, this will be the second string required.\r\n",
      "\tFor example, if the model is in the following path: /Users/margaliana/Documents/Salle/TFG/SignGestureDetection/../Assets/NeuralNetworkModel/cnn_sign_gesture_optimizer_150x150px_model.h5, the arguments needed in this strategy will be:\r\n",
      "\t\t--accuracyNeuralNetwork cnn cnn_sign_gesture_optimizer_150x150px_model.h5\r\n",
      "\r\n",
      "* Decision Tree:\r\n",
      "\tThis strategy will train a decision tree based on the models stored in the Dataset/Pickels. To execute it you need the following arguments:\r\n",
      "\t\t--decisionTree <string> ...\r\n",
      "\t· The  strings have to contain the name of the directories storing the pickels. For example, if the pickel you want to use is in the path:\r\n",
      " \t\t\tAssets/Dataset/Pickels/sign_gesture_gray_150x150px/sign_gesture_gray_150x150px_train.pkl\r\n",
      " \t  You will have to enter:\r\n",
      "\t\t\tsign_gesture_gray_150x150px\r\n",
      "\t If you want to use more than one pickel you can do it by adding all their names in the following format:\r\n",
      "\t\t\t--decisionTree sign_gesture_gray_150x150px sign_gesture_gray_150x150px sign_gesture_optimizer_150x150px\r\n",
      "\r\n",
      " * Accuracy Decision Tree:\r\n",
      "\tThis strategy will show the accuracy of the decision tree selected. In order to be able to do it, it will need to execute the Decision Tree Strategy before, so a model is stored in the Assets/DecisionTreeModel directory. To execute it you need the following arguments:\r\n",
      " \t\t--accuracyDecisionTree <string>\r\n",
      "\t· The string will contain the name of the file storing the neural network model. This model will be in the /Users/margaliana/Documents/Salle/TFG/SignGestureDetection/../Assets/DecisionTreeModel/path. Once the train strategy has been executed, the name of the new model will be displayed in the console, this will be the  string required.\r\n",
      "\tFor example, if the model is in the following path: /Users/margaliana/Documents/Salle/TFG/SignGestureDetection/../Assets/DecisionTreeModel/sign_gesture_gray_150x150px_model.pickle.dat, the arguments needed in this strategy will be:\r\n",
      "\t\t--accuracyDecisionTree sign_gesture_gray_150x150px_model.pickle.dat\r\n",
      "\r\n",
      "* Help:\r\n",
      "\tThis strategy will show all the needed arguments information in order to run this project. It needs the argument:\r\n",
      " \t\t--help\r\n",
      "\r\n",
      "\r\n",
      "[INFO]: Execution finished\r\n",
      "[INFO]: The duration of the execution has been 00:00:00\r\n"
     ]
    }
   ],
   "source": [
    "!python3 Src/main.py --help"
   ]
  },
  {
   "cell_type": "markdown",
   "id": "46607ac2",
   "metadata": {},
   "source": [
    "## Execute the SaveDatabase strategy"
   ]
  },
  {
   "cell_type": "code",
   "execution_count": 23,
   "id": "f7d9b4b5",
   "metadata": {
    "scrolled": true
   },
   "outputs": [
    {
     "name": "stdout",
     "output_type": "stream",
     "text": [
      "[INFO]: Strategy selected: --saveDatabase\n",
      "[INFO]: Arguments entered:\n",
      "\t* Pickel's name: asl_alphabet_gray_150x150px\n",
      "\t* Dataset: AslAlphabet\n",
      "\t* Environments separated: false\n",
      "\t* Save dataset in gray colors: true\n",
      "[INFO]: Test and Train pickles have been created\n",
      "[INFO]: Execution finished\n"
     ]
    }
   ],
   "source": [
    "!python3 Src/main.py --saveDatabase asl_alphabet_gray_150x150px AslAlphabet false true"
   ]
  },
  {
   "cell_type": "markdown",
   "id": "a326b5f5",
   "metadata": {},
   "source": [
    "## Execute the TrainNeuralNetwork strategy"
   ]
  },
  {
   "cell_type": "code",
   "execution_count": 69,
   "id": "78865031",
   "metadata": {
    "scrolled": true
   },
   "outputs": [
    {
     "name": "stdout",
     "output_type": "stream",
     "text": [
      "[INFO]: Strategy selected: --trainNeuralNetwork\n",
      "[INFO]: Arguments entered:\n",
      "\t* Neural Network type: cnn\n",
      "\t* Pickels selected: asl_alphabet_gray_150x150px, sign_gesture_gray_150x150px\n",
      "Model: \"sequential\"\n",
      "_________________________________________________________________\n",
      "Layer (type)                 Output Shape              Param #   \n",
      "=================================================================\n",
      "conv2d (Conv2D)              (None, 148, 148, 25)      250       \n",
      "_________________________________________________________________\n",
      "max_pooling2d (MaxPooling2D) (None, 148, 148, 25)      0         \n",
      "_________________________________________________________________\n",
      "flatten (Flatten)            (None, 547600)            0         \n",
      "_________________________________________________________________\n",
      "dense (Dense)                (None, 100)               54760100  \n",
      "_________________________________________________________________\n",
      "dense_1 (Dense)              (None, 39)                3939      \n",
      "=================================================================\n",
      "Total params: 54,764,289\n",
      "Trainable params: 54,764,289\n",
      "Non-trainable params: 0\n",
      "_________________________________________________________________\n",
      "Epoch 1/10\n",
      "462/462 [==============================] - 544s 1s/step - loss: 2.0944 - accuracy: 0.5792 - val_loss: 0.7822 - val_accuracy: 0.7888\n",
      "Epoch 2/10\n",
      "462/462 [==============================] - 510s 1s/step - loss: 0.5132 - accuracy: 0.8591 - val_loss: 0.4022 - val_accuracy: 0.8843\n",
      "Epoch 3/10\n",
      "462/462 [==============================] - 504s 1s/step - loss: 0.2410 - accuracy: 0.9309 - val_loss: 0.2058 - val_accuracy: 0.9421\n",
      "Epoch 4/10\n",
      "462/462 [==============================] - 504s 1s/step - loss: 0.1382 - accuracy: 0.9636 - val_loss: 0.1427 - val_accuracy: 0.9604\n",
      "Epoch 5/10\n",
      "462/462 [==============================] - 501s 1s/step - loss: 0.0799 - accuracy: 0.9809 - val_loss: 0.1115 - val_accuracy: 0.9696\n",
      "Epoch 6/10\n",
      "462/462 [==============================] - 508s 1s/step - loss: 0.0411 - accuracy: 0.9917 - val_loss: 0.0950 - val_accuracy: 0.9754\n",
      "Epoch 7/10\n",
      "462/462 [==============================] - 501s 1s/step - loss: 0.0492 - accuracy: 0.9895 - val_loss: 0.0499 - val_accuracy: 0.9902\n",
      "Epoch 8/10\n",
      "462/462 [==============================] - 509s 1s/step - loss: 0.0162 - accuracy: 0.9979 - val_loss: 0.0430 - val_accuracy: 0.9916\n",
      "Epoch 9/10\n",
      "462/462 [==============================] - 506s 1s/step - loss: 0.0255 - accuracy: 0.9947 - val_loss: 0.0479 - val_accuracy: 0.9895\n",
      "Epoch 10/10\n",
      "462/462 [==============================] - 504s 1s/step - loss: 0.0110 - accuracy: 0.9982 - val_loss: 0.0378 - val_accuracy: 0.9930\n",
      "[INFO]: A new decision tree model has been created with the name of: cnn_asl_alphabet_gray_150x150px-sign_gesture_gray_150x150px_model.h5\n",
      "In the path: /Users/margaliana/Documents/Salle/TFG/SignGestureDetection/Assets/ModelStructures/NeuralNetworkModel/\n",
      "This is the name that will be needed in the other strategies if you want to work with this model.\n",
      "[INFO]: Strategy executed successfully\n",
      "[INFO]: Execution finished\n",
      "[INFO]: The duration of the execution has been 01:35:02 [hh:mm:ss]\n"
     ]
    }
   ],
   "source": [
    "!python3 Src/main.py --trainNeuralNetwork cnn asl_alphabet_gray_150x150px sign_gesture_gray_150x150px"
   ]
  },
  {
   "cell_type": "markdown",
   "id": "95336153",
   "metadata": {},
   "source": [
    "## Execute the AccuracyNeuralNetwork strategy"
   ]
  },
  {
   "cell_type": "code",
   "execution_count": 10,
   "id": "40e44b90",
   "metadata": {},
   "outputs": [
    {
     "name": "stdout",
     "output_type": "stream",
     "text": [
      "[INFO]: Strategy selected: --accuracyNeuralNetwork\n",
      "[INFO]: Arguments entered:\n",
      "\t* Neural Network type: cnn\n",
      "\t* Neural Network model file: cnn_asl_alphabet_gray_150x150px-sign_gesture_gray_150x150px_model.h5\n",
      "[INFO]: Accuracy is: 99.30%\n",
      "[INFO]: Strategy executed successfully\n",
      "[INFO]: Execution finished\n",
      "[INFO]: The duration of the execution has been 00:01:31 [hh:mm:ss]\n"
     ]
    }
   ],
   "source": [
    "!python3 Src/main.py --accuracyNeuralNetwork cnn cnn_asl_alphabet_gray_150x150px-sign_gesture_gray_150x150px_model.h5"
   ]
  },
  {
   "cell_type": "markdown",
   "id": "3a2e3b8e",
   "metadata": {},
   "source": [
    "## Execute the DecisionTree strategy"
   ]
  },
  {
   "cell_type": "code",
   "execution_count": 29,
   "id": "adc6925b",
   "metadata": {},
   "outputs": [
    {
     "name": "stdout",
     "output_type": "stream",
     "text": [
      "[INFO]: Strategy selected: --decisionTree\n",
      "[INFO]: Arguments entered:\n",
      "\t* Pickels selected: asl_alphabet_gray_150x150px\n",
      "[INFO]: Start training model\n",
      "/Users/margaliana/miniforge3/lib/python3.9/site-packages/xgboost/sklearn.py:1146: UserWarning: The use of label encoder in XGBClassifier is deprecated and will be removed in a future release. To remove this warning, do the following: 1) Pass option use_label_encoder=False when constructing XGBClassifier object; and 2) Encode your labels (y) as integers starting with 0, i.e. 0, 1, 2, ..., [num_class - 1].\n",
      "  warnings.warn(label_encoder_deprecation_msg, UserWarning)\n"
     ]
    }
   ],
   "source": [
    "!python3 Src/main.py --decisionTree asl_alphabet_gray_150x150px"
   ]
  },
  {
   "cell_type": "markdown",
   "id": "640db4fb",
   "metadata": {},
   "source": [
    "## Execute the AccuracyDecisionTree Strategy"
   ]
  },
  {
   "cell_type": "code",
   "execution_count": 64,
   "id": "673b28e6",
   "metadata": {
    "scrolled": true
   },
   "outputs": [
    {
     "name": "stdout",
     "output_type": "stream",
     "text": [
      "[INFO]: Strategy selected: --accuracyDecisionTree\r\n",
      "[INFO]: Arguments entered: asl_alphabet_gray_150x150px_model.pickle.dat\r\n",
      "[INFO]: Arguments entered:\r\n",
      "\t* Decision Tree model file: asl_alphabet_gray_150x150px_model.pickle.dat\r\n"
     ]
    }
   ],
   "source": [
    "!python3 Src/main.py --accuracyDecisionTree asl_alphabet_gray_150x150px_model.pickle.dat"
   ]
  },
  {
   "cell_type": "code",
   "execution_count": null,
   "id": "b30121d3",
   "metadata": {},
   "outputs": [],
   "source": []
  }
 ],
 "metadata": {
  "kernelspec": {
   "display_name": "Python 3 (ipykernel)",
   "language": "python",
   "name": "python3"
  },
  "language_info": {
   "codemirror_mode": {
    "name": "ipython",
    "version": 3
   },
   "file_extension": ".py",
   "mimetype": "text/x-python",
   "name": "python",
   "nbconvert_exporter": "python",
   "pygments_lexer": "ipython3",
   "version": "3.9.2"
  }
 },
 "nbformat": 4,
 "nbformat_minor": 5
}
