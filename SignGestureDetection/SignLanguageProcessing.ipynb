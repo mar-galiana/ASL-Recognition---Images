{
 "cells": [
  {
   "cell_type": "markdown",
   "id": "1e712584",
   "metadata": {
    "scrolled": true
   },
   "source": [
    "# Project pre-sets"
   ]
  },
  {
   "cell_type": "code",
   "execution_count": 3,
   "id": "c76b8b81",
   "metadata": {
    "scrolled": true
   },
   "outputs": [
    {
     "name": "stdout",
     "output_type": "stream",
     "text": [
      "\u001b[33mWARNING: Value for scheme.headers does not match. Please report this to <https://github.com/pypa/pip/issues/9617>\n",
      "distutils: /Users/margaliana/miniforge3/include/python3.9/UNKNOWN\n",
      "sysconfig: /Users/margaliana/miniforge3/include/python3.9\u001b[0m\n",
      "\u001b[33mWARNING: Additional context:\n",
      "user = False\n",
      "home = None\n",
      "root = None\n",
      "prefix = None\u001b[0m\n",
      "Requirement already satisfied: numpy~=1.19.5 in /Users/margaliana/miniforge3/lib/python3.9/site-packages (from -r requirements.txt (line 1)) (1.19.5)\n",
      "Requirement already satisfied: pandas~=1.2.4 in /Users/margaliana/miniforge3/lib/python3.9/site-packages (from -r requirements.txt (line 2)) (1.2.4)\n",
      "Requirement already satisfied: scikit-learn~=0.24.2 in /Users/margaliana/miniforge3/lib/python3.9/site-packages (from -r requirements.txt (line 3)) (0.24.2)\n",
      "Requirement already satisfied: tensorflow~=2.5.0 in /Users/margaliana/miniforge3/lib/python3.9/site-packages (from -r requirements.txt (line 4)) (2.5.0)\n",
      "Requirement already satisfied: scikit-image~=0.18.1 in /Users/margaliana/miniforge3/lib/python3.9/site-packages (from -r requirements.txt (line 5)) (0.18.2)\n",
      "Requirement already satisfied: joblib~=1.0.1 in /Users/margaliana/miniforge3/lib/python3.9/site-packages (from -r requirements.txt (line 6)) (1.0.1)\n",
      "Requirement already satisfied: keras~=2.4.3 in /Users/margaliana/miniforge3/lib/python3.9/site-packages (from -r requirements.txt (line 7)) (2.4.3)\n",
      "Requirement already satisfied: matplotlib~=3.4.2 in /Users/margaliana/miniforge3/lib/python3.9/site-packages (from -r requirements.txt (line 8)) (3.4.2)\n",
      "Requirement already satisfied: xgboost in /Users/margaliana/miniforge3/lib/python3.9/site-packages (from -r requirements.txt (line 9)) (1.4.2)\n",
      "Requirement already satisfied: python-dateutil>=2.7.3 in /Users/margaliana/miniforge3/lib/python3.9/site-packages (from pandas~=1.2.4->-r requirements.txt (line 2)) (2.8.1)\n",
      "Requirement already satisfied: pytz>=2017.3 in /Users/margaliana/miniforge3/lib/python3.9/site-packages (from pandas~=1.2.4->-r requirements.txt (line 2)) (2021.1)\n",
      "Requirement already satisfied: scipy>=0.19.1 in /Users/margaliana/miniforge3/lib/python3.9/site-packages (from scikit-learn~=0.24.2->-r requirements.txt (line 3)) (1.6.3)\n",
      "Requirement already satisfied: threadpoolctl>=2.0.0 in /Users/margaliana/miniforge3/lib/python3.9/site-packages (from scikit-learn~=0.24.2->-r requirements.txt (line 3)) (2.1.0)\n",
      "Requirement already satisfied: wheel~=0.35 in /Users/margaliana/miniforge3/lib/python3.9/site-packages (from tensorflow~=2.5.0->-r requirements.txt (line 4)) (0.36.2)\n",
      "Requirement already satisfied: keras-preprocessing~=1.1.2 in /Users/margaliana/miniforge3/lib/python3.9/site-packages (from tensorflow~=2.5.0->-r requirements.txt (line 4)) (1.1.2)\n",
      "Requirement already satisfied: keras-nightly~=2.5.0.dev in /Users/margaliana/miniforge3/lib/python3.9/site-packages (from tensorflow~=2.5.0->-r requirements.txt (line 4)) (2.5.0.dev2021032900)\n",
      "Requirement already satisfied: gast==0.4.0 in /Users/margaliana/miniforge3/lib/python3.9/site-packages (from tensorflow~=2.5.0->-r requirements.txt (line 4)) (0.4.0)\n",
      "Requirement already satisfied: termcolor~=1.1.0 in /Users/margaliana/miniforge3/lib/python3.9/site-packages (from tensorflow~=2.5.0->-r requirements.txt (line 4)) (1.1.0)\n",
      "Requirement already satisfied: protobuf>=3.9.2 in /Users/margaliana/miniforge3/lib/python3.9/site-packages (from tensorflow~=2.5.0->-r requirements.txt (line 4)) (3.15.8)\n",
      "Requirement already satisfied: wrapt~=1.12.1 in /Users/margaliana/miniforge3/lib/python3.9/site-packages (from tensorflow~=2.5.0->-r requirements.txt (line 4)) (1.12.1)\n",
      "Requirement already satisfied: tensorflow-estimator<2.6.0,>=2.5.0rc0 in /Users/margaliana/miniforge3/lib/python3.9/site-packages (from tensorflow~=2.5.0->-r requirements.txt (line 4)) (2.5.0rc0)\n",
      "Requirement already satisfied: absl-py~=0.10 in /Users/margaliana/miniforge3/lib/python3.9/site-packages (from tensorflow~=2.5.0->-r requirements.txt (line 4)) (0.12.0)\n",
      "Requirement already satisfied: astunparse~=1.6.3 in /Users/margaliana/miniforge3/lib/python3.9/site-packages (from tensorflow~=2.5.0->-r requirements.txt (line 4)) (1.6.3)\n",
      "Requirement already satisfied: typing-extensions~=3.7.4 in /Users/margaliana/miniforge3/lib/python3.9/site-packages (from tensorflow~=2.5.0->-r requirements.txt (line 4)) (3.7.4.3)\n",
      "Requirement already satisfied: flatbuffers~=1.12.0 in /Users/margaliana/miniforge3/lib/python3.9/site-packages (from tensorflow~=2.5.0->-r requirements.txt (line 4)) (1.12)\n",
      "Requirement already satisfied: grpcio~=1.34.0 in /Users/margaliana/miniforge3/lib/python3.9/site-packages (from tensorflow~=2.5.0->-r requirements.txt (line 4)) (1.34.1)\n",
      "Requirement already satisfied: six~=1.15.0 in /Users/margaliana/miniforge3/lib/python3.9/site-packages (from tensorflow~=2.5.0->-r requirements.txt (line 4)) (1.15.0)\n",
      "Requirement already satisfied: google-pasta~=0.2 in /Users/margaliana/miniforge3/lib/python3.9/site-packages (from tensorflow~=2.5.0->-r requirements.txt (line 4)) (0.2.0)\n",
      "Requirement already satisfied: h5py~=3.1.0 in /Users/margaliana/miniforge3/lib/python3.9/site-packages (from tensorflow~=2.5.0->-r requirements.txt (line 4)) (3.1.0)\n",
      "Requirement already satisfied: tensorboard~=2.5 in /Users/margaliana/miniforge3/lib/python3.9/site-packages (from tensorflow~=2.5.0->-r requirements.txt (line 4)) (2.5.0)\n",
      "Requirement already satisfied: opt-einsum~=3.3.0 in /Users/margaliana/miniforge3/lib/python3.9/site-packages (from tensorflow~=2.5.0->-r requirements.txt (line 4)) (3.3.0)\n",
      "Requirement already satisfied: imageio>=2.3.0 in /Users/margaliana/miniforge3/lib/python3.9/site-packages (from scikit-image~=0.18.1->-r requirements.txt (line 5)) (2.9.0)\n",
      "Requirement already satisfied: PyWavelets>=1.1.1 in /Users/margaliana/miniforge3/lib/python3.9/site-packages (from scikit-image~=0.18.1->-r requirements.txt (line 5)) (1.1.1)\n",
      "Requirement already satisfied: tifffile>=2019.7.26 in /Users/margaliana/miniforge3/lib/python3.9/site-packages (from scikit-image~=0.18.1->-r requirements.txt (line 5)) (2021.7.30)\n",
      "Requirement already satisfied: networkx>=2.0 in /Users/margaliana/miniforge3/lib/python3.9/site-packages (from scikit-image~=0.18.1->-r requirements.txt (line 5)) (2.6.2)\n",
      "Requirement already satisfied: pillow!=7.1.0,!=7.1.1,>=4.3.0 in /Users/margaliana/miniforge3/lib/python3.9/site-packages (from scikit-image~=0.18.1->-r requirements.txt (line 5)) (8.3.1)\n",
      "Requirement already satisfied: pyyaml in /Users/margaliana/miniforge3/lib/python3.9/site-packages (from keras~=2.4.3->-r requirements.txt (line 7)) (5.4.1)\n",
      "Requirement already satisfied: kiwisolver>=1.0.1 in /Users/margaliana/miniforge3/lib/python3.9/site-packages (from matplotlib~=3.4.2->-r requirements.txt (line 8)) (1.3.1)\n",
      "Requirement already satisfied: pyparsing>=2.2.1 in /Users/margaliana/miniforge3/lib/python3.9/site-packages (from matplotlib~=3.4.2->-r requirements.txt (line 8)) (2.4.7)\n",
      "Requirement already satisfied: cycler>=0.10 in /Users/margaliana/miniforge3/lib/python3.9/site-packages (from matplotlib~=3.4.2->-r requirements.txt (line 8)) (0.10.0)\n",
      "Requirement already satisfied: tensorboard-plugin-wit>=1.6.0 in /Users/margaliana/miniforge3/lib/python3.9/site-packages (from tensorboard~=2.5->tensorflow~=2.5.0->-r requirements.txt (line 4)) (1.8.0)\n",
      "Requirement already satisfied: tensorboard-data-server<0.7.0,>=0.6.0 in /Users/margaliana/miniforge3/lib/python3.9/site-packages (from tensorboard~=2.5->tensorflow~=2.5.0->-r requirements.txt (line 4)) (0.6.0)\n",
      "Requirement already satisfied: werkzeug>=0.11.15 in /Users/margaliana/miniforge3/lib/python3.9/site-packages (from tensorboard~=2.5->tensorflow~=2.5.0->-r requirements.txt (line 4)) (1.0.1)\n",
      "Requirement already satisfied: google-auth-oauthlib<0.5,>=0.4.1 in /Users/margaliana/miniforge3/lib/python3.9/site-packages (from tensorboard~=2.5->tensorflow~=2.5.0->-r requirements.txt (line 4)) (0.4.4)\n",
      "Requirement already satisfied: requests<3,>=2.21.0 in /Users/margaliana/miniforge3/lib/python3.9/site-packages (from tensorboard~=2.5->tensorflow~=2.5.0->-r requirements.txt (line 4)) (2.25.1)\n",
      "Requirement already satisfied: google-auth<2,>=1.6.3 in /Users/margaliana/miniforge3/lib/python3.9/site-packages (from tensorboard~=2.5->tensorflow~=2.5.0->-r requirements.txt (line 4)) (1.30.0)\n",
      "Requirement already satisfied: markdown>=2.6.8 in /Users/margaliana/miniforge3/lib/python3.9/site-packages (from tensorboard~=2.5->tensorflow~=2.5.0->-r requirements.txt (line 4)) (3.3.4)\n",
      "Requirement already satisfied: setuptools>=41.0.0 in /Users/margaliana/miniforge3/lib/python3.9/site-packages (from tensorboard~=2.5->tensorflow~=2.5.0->-r requirements.txt (line 4)) (49.6.0.post20210108)\n",
      "Requirement already satisfied: cachetools<5.0,>=2.0.0 in /Users/margaliana/miniforge3/lib/python3.9/site-packages (from google-auth<2,>=1.6.3->tensorboard~=2.5->tensorflow~=2.5.0->-r requirements.txt (line 4)) (4.2.2)\n",
      "Requirement already satisfied: pyasn1-modules>=0.2.1 in /Users/margaliana/miniforge3/lib/python3.9/site-packages (from google-auth<2,>=1.6.3->tensorboard~=2.5->tensorflow~=2.5.0->-r requirements.txt (line 4)) (0.2.8)\n",
      "Requirement already satisfied: rsa<5,>=3.1.4 in /Users/margaliana/miniforge3/lib/python3.9/site-packages (from google-auth<2,>=1.6.3->tensorboard~=2.5->tensorflow~=2.5.0->-r requirements.txt (line 4)) (4.7.2)\n",
      "Requirement already satisfied: requests-oauthlib>=0.7.0 in /Users/margaliana/miniforge3/lib/python3.9/site-packages (from google-auth-oauthlib<0.5,>=0.4.1->tensorboard~=2.5->tensorflow~=2.5.0->-r requirements.txt (line 4)) (1.3.0)\n"
     ]
    },
    {
     "name": "stdout",
     "output_type": "stream",
     "text": [
      "Requirement already satisfied: pyasn1<0.5.0,>=0.4.6 in /Users/margaliana/miniforge3/lib/python3.9/site-packages (from pyasn1-modules>=0.2.1->google-auth<2,>=1.6.3->tensorboard~=2.5->tensorflow~=2.5.0->-r requirements.txt (line 4)) (0.4.8)\n",
      "Requirement already satisfied: certifi>=2017.4.17 in /Users/margaliana/miniforge3/lib/python3.9/site-packages (from requests<3,>=2.21.0->tensorboard~=2.5->tensorflow~=2.5.0->-r requirements.txt (line 4)) (2020.12.5)\n",
      "Requirement already satisfied: chardet<5,>=3.0.2 in /Users/margaliana/miniforge3/lib/python3.9/site-packages (from requests<3,>=2.21.0->tensorboard~=2.5->tensorflow~=2.5.0->-r requirements.txt (line 4)) (4.0.0)\n",
      "Requirement already satisfied: urllib3<1.27,>=1.21.1 in /Users/margaliana/miniforge3/lib/python3.9/site-packages (from requests<3,>=2.21.0->tensorboard~=2.5->tensorflow~=2.5.0->-r requirements.txt (line 4)) (1.26.4)\n",
      "Requirement already satisfied: idna<3,>=2.5 in /Users/margaliana/miniforge3/lib/python3.9/site-packages (from requests<3,>=2.21.0->tensorboard~=2.5->tensorflow~=2.5.0->-r requirements.txt (line 4)) (2.10)\n",
      "Requirement already satisfied: oauthlib>=3.0.0 in /Users/margaliana/miniforge3/lib/python3.9/site-packages (from requests-oauthlib>=0.7.0->google-auth-oauthlib<0.5,>=0.4.1->tensorboard~=2.5->tensorflow~=2.5.0->-r requirements.txt (line 4)) (3.1.0)\n",
      "\u001b[33mWARNING: Value for scheme.headers does not match. Please report this to <https://github.com/pypa/pip/issues/9617>\n",
      "distutils: /Users/margaliana/miniforge3/include/python3.9/UNKNOWN\n",
      "sysconfig: /Users/margaliana/miniforge3/include/python3.9\u001b[0m\n",
      "\u001b[33mWARNING: Additional context:\n",
      "user = False\n",
      "home = None\n",
      "root = None\n",
      "prefix = None\u001b[0m\n",
      "Note: you may need to restart the kernel to use updated packages.\n"
     ]
    }
   ],
   "source": [
    "pip install -r requirements.txt "
   ]
  },
  {
   "cell_type": "markdown",
   "id": "e0fe1f1a",
   "metadata": {},
   "source": [
    "# Executions"
   ]
  },
  {
   "cell_type": "markdown",
   "id": "74ce1642",
   "metadata": {},
   "source": [
    "## Execute the Help strategy"
   ]
  },
  {
   "cell_type": "code",
   "execution_count": 43,
   "id": "fdf7c6d8",
   "metadata": {
    "scrolled": true
   },
   "outputs": [
    {
     "name": "stdout",
     "output_type": "stream",
     "text": [
      "[INFO]: Strategy selected: --help\r\n",
      "This project contains three different strategies:\r\n",
      "* Save Database:\r\n",
      "\tThis strategy will save all the images, from the directory selected inside the directory: Assets/Dataset/Images, in two pickles (test and train). To execute it you need the following arguments:\r\n",
      " \t\t--saveDatabase <string> <string> <boolean> <boolean>\r\n",
      "\t· The first string has to contain the name of the pickel to use, for example:\r\n",
      "\t\t\tsign_gesture_gray_150x150px\r\n",
      "\t· The second string indicates witch model to use, the possibilities are:\r\n",
      "\t\t* GestureImageData\r\n",
      "\t\t* GestureImagePreProcessedData\r\n",
      "\t\t* AslAlphabet\r\n",
      "\t· The first boolean will be true if the directory GestureImageData contains the images separated in test and train.\r\n",
      "\t· The second boolean will be true if the dataset has to be saved in gray colors.\r\n",
      "\r\n",
      "* Train Neural Network:\r\n",
      "\tThis strategy will train an specific neural network based on the models stored in the Dataset/Pickels. To execute it you need the following arguments:\r\n",
      " \t\t--trainNeuralNetwork <string> <string> ...\r\n",
      "\t· The first string specifies the type of Neural Network to train, the possibilities are:\r\n",
      "\t\t* cnn: Convolutional Neural Network.\r\n",
      "\t· The other strings have to contain the name of the directories storing the pickels. For example, if the pickel you want to use is in the path:\r\n",
      " \t\t\tAssets/Dataset/Pickels/sign_gesture_gray_150x150px/sign_gesture_gray_150x150px_train.pkl\r\n",
      " \t  You will have to enter:\r\n",
      "\t\t\tsign_gesture_gray_150x150px\r\n",
      "\t If you want to use more than one pickel you can do it by adding all their names in the following format:\r\n",
      "\t\t\t--trainNeuralNetwork nn sign_gesture_gray_150x150px sign_gesture_gray_150x150px sign_gesture_optimizer_150x150px\r\n",
      "\r\n",
      " * Accuracy Neural Network:\r\n",
      "\tThis strategy will show the accuracy of the Neural Network selected. In order to be able to do it, it will need to execute the Train Neural Network before, so a model is stored in the Assets/NeuralNetworkModel directory. To execute it you need the following arguments:\r\n",
      " \t\t--accuracyNeuralNetwork <string> <string>\r\n",
      "\t· The first string specifies the type of Neural Network to train, the possibilities are:\r\n",
      "\t\t* nn: Basic Neural Network.\r\n",
      " \t\t* cnn: Convolutional Neural Network.\r\n",
      "\t· The secondstring will contain the name of the file storing the neural network model. This model will be in the /Users/margaliana/Documents/Salle/TFG/SignGestureDetection/../Assets/NeuralNetworkModel/path. Once the train strategy has been executed, the name of the new model will be displayed in the console, this will be the second string required.\r\n",
      "\tFor example, if the model is in the following path: /Users/margaliana/Documents/Salle/TFG/SignGestureDetection/../Assets/NeuralNetworkModel/cnn_sign_gesture_optimizer_150x150px_model.h5, the arguments needed in this strategy will be:\r\n",
      "\t\t--accuracyNeuralNetwork cnn cnn_sign_gesture_optimizer_150x150px_model.h5\r\n",
      "\r\n",
      "* Decision Tree:\r\n",
      "\tThis strategy will train a decision tree based on the models stored in the Dataset/Pickels. To execute it you need the following arguments:\r\n",
      "\t\t--decisionTree <string> ...\r\n",
      "\t· The  strings have to contain the name of the directories storing the pickels. For example, if the pickel you want to use is in the path:\r\n",
      " \t\t\tAssets/Dataset/Pickels/sign_gesture_gray_150x150px/sign_gesture_gray_150x150px_train.pkl\r\n",
      " \t  You will have to enter:\r\n",
      "\t\t\tsign_gesture_gray_150x150px\r\n",
      "\t If you want to use more than one pickel you can do it by adding all their names in the following format:\r\n",
      "\t\t\t--decisionTree sign_gesture_gray_150x150px sign_gesture_gray_150x150px sign_gesture_optimizer_150x150px\r\n",
      "\r\n",
      " * Accuracy Decision Tree:\r\n",
      "\tThis strategy will show the accuracy of the decision tree selected. In order to be able to do it, it will need to execute the Decision Tree Strategy before, so a model is stored in the Assets/DecisionTreeModel directory. To execute it you need the following arguments:\r\n",
      " \t\t--accuracyDecisionTree <string>\r\n",
      "\t· The string will contain the name of the file storing the neural network model. This model will be in the /Users/margaliana/Documents/Salle/TFG/SignGestureDetection/../Assets/DecisionTreeModel/path. Once the train strategy has been executed, the name of the new model will be displayed in the console, this will be the  string required.\r\n",
      "\tFor example, if the model is in the following path: /Users/margaliana/Documents/Salle/TFG/SignGestureDetection/../Assets/DecisionTreeModel/sign_gesture_gray_150x150px_model.pickle.dat, the arguments needed in this strategy will be:\r\n",
      "\t\t--accuracyDecisionTree sign_gesture_gray_150x150px_model.pickle.dat\r\n",
      "\r\n",
      "* Help:\r\n",
      "\tThis strategy will show all the needed arguments information in order to run this project. It needs the argument:\r\n",
      " \t\t--help\r\n",
      "\r\n",
      "\r\n",
      "[INFO]: Execution finished\r\n",
      "[INFO]: The duration of the execution has been 00:00:00\r\n"
     ]
    }
   ],
   "source": [
    "!python3 Src/main.py --help"
   ]
  },
  {
   "cell_type": "markdown",
   "id": "46607ac2",
   "metadata": {},
   "source": [
    "## Execute the SaveDatabase strategy"
   ]
  },
  {
   "cell_type": "code",
   "execution_count": 23,
   "id": "f7d9b4b5",
   "metadata": {
    "scrolled": true
   },
   "outputs": [
    {
     "name": "stdout",
     "output_type": "stream",
     "text": [
      "[INFO]: Strategy selected: --saveDatabase\n",
      "[INFO]: Arguments entered:\n",
      "\t* Pickel's name: asl_alphabet_gray_150x150px\n",
      "\t* Dataset: AslAlphabet\n",
      "\t* Environments separated: false\n",
      "\t* Save dataset in gray colors: true\n",
      "[INFO]: Test and Train pickles have been created\n",
      "[INFO]: Execution finished\n"
     ]
    }
   ],
   "source": [
    "!python3 Src/main.py --saveDatabase asl_alphabet_gray_150x150px AslAlphabet false true"
   ]
  },
  {
   "cell_type": "markdown",
   "id": "a326b5f5",
   "metadata": {},
   "source": [
    "## Execute the TrainNeuralNetwork strategy"
   ]
  },
  {
   "cell_type": "code",
   "execution_count": 2,
   "id": "78865031",
   "metadata": {
    "scrolled": false
   },
   "outputs": [
    {
     "name": "stdout",
     "output_type": "stream",
     "text": [
      "[INFO]: Strategy selected: --trainNeuralNetwork\n",
      "[INFO]: Arguments entered:\n",
      "\t* Neural Network type: nn\n",
      "\t* Pickels selected: asl_alphabet_gray_150x150px, sign_gesture_gray_150x150px\n",
      "Model: \"sequential\"\n",
      "_________________________________________________________________\n",
      "Layer (type)                 Output Shape              Param #   \n",
      "=================================================================\n",
      "dense (Dense)                (None, 100)               2250100   \n",
      "_________________________________________________________________\n",
      "dense_1 (Dense)              (None, 39)                3939      \n",
      "=================================================================\n",
      "Total params: 2,254,039\n",
      "Trainable params: 2,254,039\n",
      "Non-trainable params: 0\n",
      "_________________________________________________________________\n",
      "Epoch 1/10\n",
      "462/462 [==============================] - 44s 93ms/step - loss: 3.5473 - accuracy: 0.0787 - val_loss: 3.0849 - val_accuracy: 0.1137\n",
      "Epoch 2/10\n",
      "462/462 [==============================] - 14s 31ms/step - loss: 2.8664 - accuracy: 0.1663 - val_loss: 2.7073 - val_accuracy: 0.2097\n",
      "Epoch 3/10\n",
      "462/462 [==============================] - 14s 31ms/step - loss: 2.5915 - accuracy: 0.2557 - val_loss: 2.5005 - val_accuracy: 0.2809\n",
      "Epoch 4/10\n",
      "462/462 [==============================] - 9s 19ms/step - loss: 2.4134 - accuracy: 0.2992 - val_loss: 2.3347 - val_accuracy: 0.3458\n",
      "Epoch 5/10\n",
      "462/462 [==============================] - 10s 22ms/step - loss: 2.2455 - accuracy: 0.3559 - val_loss: 2.1607 - val_accuracy: 0.3833\n",
      "Epoch 6/10\n",
      "462/462 [==============================] - 9s 19ms/step - loss: 2.1001 - accuracy: 0.3938 - val_loss: 2.1274 - val_accuracy: 0.3854\n",
      "Epoch 7/10\n",
      "462/462 [==============================] - 9s 19ms/step - loss: 2.0282 - accuracy: 0.4195 - val_loss: 2.0169 - val_accuracy: 0.4261\n",
      "Epoch 8/10\n",
      "462/462 [==============================] - 9s 19ms/step - loss: 1.9689 - accuracy: 0.4429 - val_loss: 1.9648 - val_accuracy: 0.4635\n",
      "Epoch 9/10\n",
      "462/462 [==============================] - 9s 19ms/step - loss: 1.9339 - accuracy: 0.4527 - val_loss: 1.9608 - val_accuracy: 0.4528\n",
      "Epoch 10/10\n",
      "462/462 [==============================] - 9s 20ms/step - loss: 1.8855 - accuracy: 0.4702 - val_loss: 1.9118 - val_accuracy: 0.4773\n",
      "[INFO]: A new decision tree model has been created with the name of: nn_asl_alphabet_gray_150x150px-sign_gesture_gray_150x150px_model.h5\n",
      "In the path: /Users/margaliana/Documents/Salle/TFG/SignGestureDetection/Assets/ModelStructures/NeuralNetworkModel/\n",
      "This is the name that will be needed in the other strategies if you want to work with this model.\n",
      "[INFO]: Strategy executed successfully\n",
      "[INFO]: Execution finished\n",
      "[INFO]: The duration of the execution has been 00:12:09 [hh:mm:ss]\n"
     ]
    }
   ],
   "source": [
    "!python3 Src/main.py --trainNeuralNetwork nn asl_alphabet_gray_150x150px sign_gesture_gray_150x150px"
   ]
  },
  {
   "cell_type": "markdown",
   "id": "95336153",
   "metadata": {},
   "source": [
    "## Execute the AccuracyNeuralNetwork strategy"
   ]
  },
  {
   "cell_type": "code",
   "execution_count": 8,
   "id": "40e44b90",
   "metadata": {},
   "outputs": [
    {
     "name": "stdout",
     "output_type": "stream",
     "text": [
      "[INFO]: Strategy selected: --accuracyNeuralNetwork\n",
      "[INFO]: Arguments entered:\n",
      "\t* Neural Network type: cnn\n",
      "\t* Neural Network model file: cnn_asl_alphabet_gray_150x150px-sign_gesture_gray_150x150px_model.h5\n",
      "[INFO]: Accuracy is: 99.30%\n",
      "[INFO]: Strategy executed successfully\n",
      "[INFO]: Execution finished\n",
      "[INFO]: The duration of the execution has been 00:01:43 [hh:mm:ss]\n"
     ]
    }
   ],
   "source": [
    "!python3 Src/main.py --accuracyNeuralNetwork cnn cnn_asl_alphabet_gray_150x150px-sign_gesture_gray_150x150px_model.h5"
   ]
  },
  {
   "cell_type": "markdown",
   "id": "3a2e3b8e",
   "metadata": {},
   "source": [
    "## Execute the DecisionTree strategy"
   ]
  },
  {
   "cell_type": "code",
   "execution_count": 35,
   "id": "adc6925b",
   "metadata": {
    "scrolled": false
   },
   "outputs": [
    {
     "name": "stdout",
     "output_type": "stream",
     "text": [
      "[INFO]: Strategy selected: --trainDecisionTree\n",
      "[INFO]: Arguments entered:\n",
      "\t* Pickels selected: sign_gesture_gray_150x150px\n",
      "[INFO]: Start training model\n",
      "/Users/margaliana/miniforge3/lib/python3.9/site-packages/xgboost/sklearn.py:1146: UserWarning: The use of label encoder in XGBClassifier is deprecated and will be removed in a future release. To remove this warning, do the following: 1) Pass option use_label_encoder=False when constructing XGBClassifier object; and 2) Encode your labels (y) as integers starting with 0, i.e. 0, 1, 2, ..., [num_class - 1].\n",
      "  warnings.warn(label_encoder_deprecation_msg, UserWarning)\n"
     ]
    }
   ],
   "source": [
    "!python3 Src/main.py --trainDecisionTree sign_gesture_optimizer_150x150px"
   ]
  },
  {
   "cell_type": "markdown",
   "id": "640db4fb",
   "metadata": {},
   "source": [
    "## Execute the AccuracyDecisionTree Strategy"
   ]
  },
  {
   "cell_type": "code",
   "execution_count": 4,
   "id": "673b28e6",
   "metadata": {
    "scrolled": true
   },
   "outputs": [
    {
     "name": "stdout",
     "output_type": "stream",
     "text": [
      "^C\r\n",
      "Traceback (most recent call last):\r\n",
      "  File \"/Users/margaliana/Documents/Salle/TFG/SignGestureDetection/Src/main.py\", line 5, in <module>\r\n",
      "    from StrategyFactory.strategyFactoy import ExecutionFactory\r\n",
      "  File \"/Users/margaliana/Documents/Salle/TFG/SignGestureDetection/Src/StrategyFactory/strategyFactoy.py\", line 3, in <module>\r\n",
      "    from Model.modelUtil import ModelUtil\r\n",
      "  File \"/Users/margaliana/Documents/Salle/TFG/SignGestureDetection/Src/Model/modelUtil.py\", line 2, in <module>\r\n",
      "    from tensorflow import keras\r\n",
      "  File \"/Users/margaliana/miniforge3/lib/python3.9/site-packages/tensorflow/__init__.py\", line 41, in <module>\r\n",
      "    from tensorflow.python.tools import module_util as _module_util\r\n",
      "  File \"/Users/margaliana/miniforge3/lib/python3.9/site-packages/tensorflow/python/__init__.py\", line 145, in <module>\r\n",
      "    from tensorflow.python.compiler.mlir import mlir\r\n",
      "  File \"<frozen importlib._bootstrap>\", line 1007, in _find_and_load\r\n",
      "  File \"<frozen importlib._bootstrap>\", line 986, in _find_and_load_unlocked\r\n",
      "  File \"<frozen importlib._bootstrap>\", line 666, in _load_unlocked\r\n",
      "  File \"<frozen importlib._bootstrap>\", line 571, in module_from_spec\r\n",
      "  File \"<frozen importlib._bootstrap>\", line 535, in _init_module_attrs\r\n",
      "KeyboardInterrupt\r\n"
     ]
    }
   ],
   "source": [
    "!python3 Src/main.py --accuracyDecisionTree asl_alphabet_gray_150x150px_model.pickle.dat"
   ]
  },
  {
   "cell_type": "code",
   "execution_count": null,
   "id": "b30121d3",
   "metadata": {},
   "outputs": [],
   "source": []
  }
 ],
 "metadata": {
  "kernelspec": {
   "display_name": "Python 3 (ipykernel)",
   "language": "python",
   "name": "python3"
  },
  "language_info": {
   "codemirror_mode": {
    "name": "ipython",
    "version": 3
   },
   "file_extension": ".py",
   "mimetype": "text/x-python",
   "name": "python",
   "nbconvert_exporter": "python",
   "pygments_lexer": "ipython3",
   "version": "3.9.2"
  }
 },
 "nbformat": 4,
 "nbformat_minor": 5
}
