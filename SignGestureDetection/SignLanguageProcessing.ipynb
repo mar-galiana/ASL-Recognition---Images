{
 "cells": [
  {
   "cell_type": "markdown",
   "id": "1e712584",
   "metadata": {
    "scrolled": true
   },
   "source": [
    "# Project pre-sets"
   ]
  },
  {
   "cell_type": "code",
   "execution_count": 3,
   "id": "c76b8b81",
   "metadata": {},
   "outputs": [
    {
     "name": "stdout",
     "output_type": "stream",
     "text": [
      "\u001b[33mWARNING: Value for scheme.headers does not match. Please report this to <https://github.com/pypa/pip/issues/9617>\n",
      "distutils: /Users/margaliana/miniforge3/include/python3.9/UNKNOWN\n",
      "sysconfig: /Users/margaliana/miniforge3/include/python3.9\u001b[0m\n",
      "\u001b[33mWARNING: Additional context:\n",
      "user = False\n",
      "home = None\n",
      "root = None\n",
      "prefix = None\u001b[0m\n",
      "Requirement already satisfied: numpy~=1.19.5 in /Users/margaliana/miniforge3/lib/python3.9/site-packages (from -r requirements.txt (line 1)) (1.19.5)\n",
      "Requirement already satisfied: pandas~=1.2.4 in /Users/margaliana/miniforge3/lib/python3.9/site-packages (from -r requirements.txt (line 2)) (1.2.4)\n",
      "Requirement already satisfied: scikit-learn~=0.24.2 in /Users/margaliana/miniforge3/lib/python3.9/site-packages (from -r requirements.txt (line 3)) (0.24.2)\n",
      "Requirement already satisfied: tensorflow~=2.5.0 in /Users/margaliana/miniforge3/lib/python3.9/site-packages (from -r requirements.txt (line 4)) (2.5.0)\n",
      "Requirement already satisfied: scikit-image~=0.18.1 in /Users/margaliana/miniforge3/lib/python3.9/site-packages (from -r requirements.txt (line 5)) (0.18.2)\n",
      "Requirement already satisfied: joblib~=1.0.1 in /Users/margaliana/miniforge3/lib/python3.9/site-packages (from -r requirements.txt (line 6)) (1.0.1)\n",
      "Requirement already satisfied: keras~=2.4.3 in /Users/margaliana/miniforge3/lib/python3.9/site-packages (from -r requirements.txt (line 7)) (2.4.3)\n",
      "Requirement already satisfied: matplotlib~=3.4.2 in /Users/margaliana/miniforge3/lib/python3.9/site-packages (from -r requirements.txt (line 8)) (3.4.2)\n",
      "Requirement already satisfied: xgboost in /Users/margaliana/miniforge3/lib/python3.9/site-packages (from -r requirements.txt (line 9)) (1.4.2)\n",
      "Requirement already satisfied: python-dateutil>=2.7.3 in /Users/margaliana/miniforge3/lib/python3.9/site-packages (from pandas~=1.2.4->-r requirements.txt (line 2)) (2.8.1)\n",
      "Requirement already satisfied: pytz>=2017.3 in /Users/margaliana/miniforge3/lib/python3.9/site-packages (from pandas~=1.2.4->-r requirements.txt (line 2)) (2021.1)\n",
      "Requirement already satisfied: scipy>=0.19.1 in /Users/margaliana/miniforge3/lib/python3.9/site-packages (from scikit-learn~=0.24.2->-r requirements.txt (line 3)) (1.6.3)\n",
      "Requirement already satisfied: threadpoolctl>=2.0.0 in /Users/margaliana/miniforge3/lib/python3.9/site-packages (from scikit-learn~=0.24.2->-r requirements.txt (line 3)) (2.1.0)\n",
      "Requirement already satisfied: wheel~=0.35 in /Users/margaliana/miniforge3/lib/python3.9/site-packages (from tensorflow~=2.5.0->-r requirements.txt (line 4)) (0.36.2)\n",
      "Requirement already satisfied: keras-preprocessing~=1.1.2 in /Users/margaliana/miniforge3/lib/python3.9/site-packages (from tensorflow~=2.5.0->-r requirements.txt (line 4)) (1.1.2)\n",
      "Requirement already satisfied: keras-nightly~=2.5.0.dev in /Users/margaliana/miniforge3/lib/python3.9/site-packages (from tensorflow~=2.5.0->-r requirements.txt (line 4)) (2.5.0.dev2021032900)\n",
      "Requirement already satisfied: gast==0.4.0 in /Users/margaliana/miniforge3/lib/python3.9/site-packages (from tensorflow~=2.5.0->-r requirements.txt (line 4)) (0.4.0)\n",
      "Requirement already satisfied: termcolor~=1.1.0 in /Users/margaliana/miniforge3/lib/python3.9/site-packages (from tensorflow~=2.5.0->-r requirements.txt (line 4)) (1.1.0)\n",
      "Requirement already satisfied: protobuf>=3.9.2 in /Users/margaliana/miniforge3/lib/python3.9/site-packages (from tensorflow~=2.5.0->-r requirements.txt (line 4)) (3.15.8)\n",
      "Requirement already satisfied: wrapt~=1.12.1 in /Users/margaliana/miniforge3/lib/python3.9/site-packages (from tensorflow~=2.5.0->-r requirements.txt (line 4)) (1.12.1)\n",
      "Requirement already satisfied: tensorflow-estimator<2.6.0,>=2.5.0rc0 in /Users/margaliana/miniforge3/lib/python3.9/site-packages (from tensorflow~=2.5.0->-r requirements.txt (line 4)) (2.5.0rc0)\n",
      "Requirement already satisfied: absl-py~=0.10 in /Users/margaliana/miniforge3/lib/python3.9/site-packages (from tensorflow~=2.5.0->-r requirements.txt (line 4)) (0.12.0)\n",
      "Requirement already satisfied: astunparse~=1.6.3 in /Users/margaliana/miniforge3/lib/python3.9/site-packages (from tensorflow~=2.5.0->-r requirements.txt (line 4)) (1.6.3)\n",
      "Requirement already satisfied: typing-extensions~=3.7.4 in /Users/margaliana/miniforge3/lib/python3.9/site-packages (from tensorflow~=2.5.0->-r requirements.txt (line 4)) (3.7.4.3)\n",
      "Requirement already satisfied: flatbuffers~=1.12.0 in /Users/margaliana/miniforge3/lib/python3.9/site-packages (from tensorflow~=2.5.0->-r requirements.txt (line 4)) (1.12)\n",
      "Requirement already satisfied: grpcio~=1.34.0 in /Users/margaliana/miniforge3/lib/python3.9/site-packages (from tensorflow~=2.5.0->-r requirements.txt (line 4)) (1.34.1)\n",
      "Requirement already satisfied: six~=1.15.0 in /Users/margaliana/miniforge3/lib/python3.9/site-packages (from tensorflow~=2.5.0->-r requirements.txt (line 4)) (1.15.0)\n",
      "Requirement already satisfied: google-pasta~=0.2 in /Users/margaliana/miniforge3/lib/python3.9/site-packages (from tensorflow~=2.5.0->-r requirements.txt (line 4)) (0.2.0)\n",
      "Requirement already satisfied: h5py~=3.1.0 in /Users/margaliana/miniforge3/lib/python3.9/site-packages (from tensorflow~=2.5.0->-r requirements.txt (line 4)) (3.1.0)\n",
      "Requirement already satisfied: tensorboard~=2.5 in /Users/margaliana/miniforge3/lib/python3.9/site-packages (from tensorflow~=2.5.0->-r requirements.txt (line 4)) (2.5.0)\n",
      "Requirement already satisfied: opt-einsum~=3.3.0 in /Users/margaliana/miniforge3/lib/python3.9/site-packages (from tensorflow~=2.5.0->-r requirements.txt (line 4)) (3.3.0)\n",
      "Requirement already satisfied: imageio>=2.3.0 in /Users/margaliana/miniforge3/lib/python3.9/site-packages (from scikit-image~=0.18.1->-r requirements.txt (line 5)) (2.9.0)\n",
      "Requirement already satisfied: PyWavelets>=1.1.1 in /Users/margaliana/miniforge3/lib/python3.9/site-packages (from scikit-image~=0.18.1->-r requirements.txt (line 5)) (1.1.1)\n",
      "Requirement already satisfied: tifffile>=2019.7.26 in /Users/margaliana/miniforge3/lib/python3.9/site-packages (from scikit-image~=0.18.1->-r requirements.txt (line 5)) (2021.7.30)\n",
      "Requirement already satisfied: networkx>=2.0 in /Users/margaliana/miniforge3/lib/python3.9/site-packages (from scikit-image~=0.18.1->-r requirements.txt (line 5)) (2.6.2)\n",
      "Requirement already satisfied: pillow!=7.1.0,!=7.1.1,>=4.3.0 in /Users/margaliana/miniforge3/lib/python3.9/site-packages (from scikit-image~=0.18.1->-r requirements.txt (line 5)) (8.3.1)\n",
      "Requirement already satisfied: pyyaml in /Users/margaliana/miniforge3/lib/python3.9/site-packages (from keras~=2.4.3->-r requirements.txt (line 7)) (5.4.1)\n",
      "Requirement already satisfied: kiwisolver>=1.0.1 in /Users/margaliana/miniforge3/lib/python3.9/site-packages (from matplotlib~=3.4.2->-r requirements.txt (line 8)) (1.3.1)\n",
      "Requirement already satisfied: pyparsing>=2.2.1 in /Users/margaliana/miniforge3/lib/python3.9/site-packages (from matplotlib~=3.4.2->-r requirements.txt (line 8)) (2.4.7)\n",
      "Requirement already satisfied: cycler>=0.10 in /Users/margaliana/miniforge3/lib/python3.9/site-packages (from matplotlib~=3.4.2->-r requirements.txt (line 8)) (0.10.0)\n",
      "Requirement already satisfied: tensorboard-plugin-wit>=1.6.0 in /Users/margaliana/miniforge3/lib/python3.9/site-packages (from tensorboard~=2.5->tensorflow~=2.5.0->-r requirements.txt (line 4)) (1.8.0)\n",
      "Requirement already satisfied: tensorboard-data-server<0.7.0,>=0.6.0 in /Users/margaliana/miniforge3/lib/python3.9/site-packages (from tensorboard~=2.5->tensorflow~=2.5.0->-r requirements.txt (line 4)) (0.6.0)\n",
      "Requirement already satisfied: werkzeug>=0.11.15 in /Users/margaliana/miniforge3/lib/python3.9/site-packages (from tensorboard~=2.5->tensorflow~=2.5.0->-r requirements.txt (line 4)) (1.0.1)\n",
      "Requirement already satisfied: google-auth-oauthlib<0.5,>=0.4.1 in /Users/margaliana/miniforge3/lib/python3.9/site-packages (from tensorboard~=2.5->tensorflow~=2.5.0->-r requirements.txt (line 4)) (0.4.4)\n",
      "Requirement already satisfied: requests<3,>=2.21.0 in /Users/margaliana/miniforge3/lib/python3.9/site-packages (from tensorboard~=2.5->tensorflow~=2.5.0->-r requirements.txt (line 4)) (2.25.1)\n",
      "Requirement already satisfied: google-auth<2,>=1.6.3 in /Users/margaliana/miniforge3/lib/python3.9/site-packages (from tensorboard~=2.5->tensorflow~=2.5.0->-r requirements.txt (line 4)) (1.30.0)\n",
      "Requirement already satisfied: markdown>=2.6.8 in /Users/margaliana/miniforge3/lib/python3.9/site-packages (from tensorboard~=2.5->tensorflow~=2.5.0->-r requirements.txt (line 4)) (3.3.4)\n",
      "Requirement already satisfied: setuptools>=41.0.0 in /Users/margaliana/miniforge3/lib/python3.9/site-packages (from tensorboard~=2.5->tensorflow~=2.5.0->-r requirements.txt (line 4)) (49.6.0.post20210108)\n",
      "Requirement already satisfied: cachetools<5.0,>=2.0.0 in /Users/margaliana/miniforge3/lib/python3.9/site-packages (from google-auth<2,>=1.6.3->tensorboard~=2.5->tensorflow~=2.5.0->-r requirements.txt (line 4)) (4.2.2)\n",
      "Requirement already satisfied: pyasn1-modules>=0.2.1 in /Users/margaliana/miniforge3/lib/python3.9/site-packages (from google-auth<2,>=1.6.3->tensorboard~=2.5->tensorflow~=2.5.0->-r requirements.txt (line 4)) (0.2.8)\n",
      "Requirement already satisfied: rsa<5,>=3.1.4 in /Users/margaliana/miniforge3/lib/python3.9/site-packages (from google-auth<2,>=1.6.3->tensorboard~=2.5->tensorflow~=2.5.0->-r requirements.txt (line 4)) (4.7.2)\n",
      "Requirement already satisfied: requests-oauthlib>=0.7.0 in /Users/margaliana/miniforge3/lib/python3.9/site-packages (from google-auth-oauthlib<0.5,>=0.4.1->tensorboard~=2.5->tensorflow~=2.5.0->-r requirements.txt (line 4)) (1.3.0)\n"
     ]
    },
    {
     "name": "stdout",
     "output_type": "stream",
     "text": [
      "Requirement already satisfied: pyasn1<0.5.0,>=0.4.6 in /Users/margaliana/miniforge3/lib/python3.9/site-packages (from pyasn1-modules>=0.2.1->google-auth<2,>=1.6.3->tensorboard~=2.5->tensorflow~=2.5.0->-r requirements.txt (line 4)) (0.4.8)\n",
      "Requirement already satisfied: certifi>=2017.4.17 in /Users/margaliana/miniforge3/lib/python3.9/site-packages (from requests<3,>=2.21.0->tensorboard~=2.5->tensorflow~=2.5.0->-r requirements.txt (line 4)) (2020.12.5)\n",
      "Requirement already satisfied: chardet<5,>=3.0.2 in /Users/margaliana/miniforge3/lib/python3.9/site-packages (from requests<3,>=2.21.0->tensorboard~=2.5->tensorflow~=2.5.0->-r requirements.txt (line 4)) (4.0.0)\n",
      "Requirement already satisfied: urllib3<1.27,>=1.21.1 in /Users/margaliana/miniforge3/lib/python3.9/site-packages (from requests<3,>=2.21.0->tensorboard~=2.5->tensorflow~=2.5.0->-r requirements.txt (line 4)) (1.26.4)\n",
      "Requirement already satisfied: idna<3,>=2.5 in /Users/margaliana/miniforge3/lib/python3.9/site-packages (from requests<3,>=2.21.0->tensorboard~=2.5->tensorflow~=2.5.0->-r requirements.txt (line 4)) (2.10)\n",
      "Requirement already satisfied: oauthlib>=3.0.0 in /Users/margaliana/miniforge3/lib/python3.9/site-packages (from requests-oauthlib>=0.7.0->google-auth-oauthlib<0.5,>=0.4.1->tensorboard~=2.5->tensorflow~=2.5.0->-r requirements.txt (line 4)) (3.1.0)\n",
      "\u001b[33mWARNING: Value for scheme.headers does not match. Please report this to <https://github.com/pypa/pip/issues/9617>\n",
      "distutils: /Users/margaliana/miniforge3/include/python3.9/UNKNOWN\n",
      "sysconfig: /Users/margaliana/miniforge3/include/python3.9\u001b[0m\n",
      "\u001b[33mWARNING: Additional context:\n",
      "user = False\n",
      "home = None\n",
      "root = None\n",
      "prefix = None\u001b[0m\n",
      "Note: you may need to restart the kernel to use updated packages.\n"
     ]
    }
   ],
   "source": [
    "pip install -r requirements.txt "
   ]
  },
  {
   "cell_type": "markdown",
   "id": "e0fe1f1a",
   "metadata": {},
   "source": [
    "# Executions"
   ]
  },
  {
   "cell_type": "markdown",
   "id": "74ce1642",
   "metadata": {},
   "source": [
    "## Execute the Help strategy"
   ]
  },
  {
   "cell_type": "code",
   "execution_count": 10,
   "id": "fdf7c6d8",
   "metadata": {},
   "outputs": [
    {
     "name": "stdout",
     "output_type": "stream",
     "text": [
      "[INFO]: Strategy selected: --help\r\n",
      "This project contains three different strategies:\r\n",
      "* Save Database:\r\n",
      "\tThis strategy will save all the images, from the directory selected inside the directory: Assets/Dataset/Images, in two pickles (test and train). To execute it you need the following arguments:\r\n",
      " \t\t--saveDatabase <string> <string> <boolean> <boolean>\r\n",
      "\t· The first string has to contain the name of the pickel to use, for example:\r\n",
      "\t\t\tsign_gesture_gray_150x150px\r\n",
      "\t· The second string indicates witch model to use, the possibilities are:\r\n",
      "\t\t* original: The original dataset.\r\n",
      " \t\t* optimized: The original dataset pre-processed to increase the performance.\r\n",
      "\r\n",
      " \t· The first boolean will be true if the directory GestureImageData contains the images separated in test and train.\r\n",
      "\t· The second boolean will be true if the dataset has to be saved in gray colors.\r\n",
      "\r\n",
      " * Train Neural Network:\r\n",
      "\tThis strategy will train an specific neural network based on one of the models stored in the Dataset/Pickels. To execute it you need the following arguments:\r\n",
      " \t\t--trainNeuralNetwork <string> <string>\r\n",
      "\t· The first string has to contain the name of the directory storing the pickels. For example, if the pickel you want to use is in the path:\r\n",
      " \t\t\tAssets/Dataset/Pickels/sign_gesture_gray_150x150px/sign_gesture_gray_150x150px_train.pkl\r\n",
      " \t  You will have to enter:\r\n",
      "\t\t\tsign_gesture_gray_150x150px\r\n",
      "\t· The second string specifies the type of Neural Network to train, the possibilities are:\r\n",
      "\t\t* nn: Basic Neural Network.\r\n",
      " \t\t* cnn: Convolutional Neural Network.\r\n",
      "\r\n",
      "* Accuracy Neural Network:\r\n",
      "\tThis strategy will show the accuracy of the Neural Network selected. In order to be able to do it, it will need to execute the Train Neural Network before, so a model is stored in the Assets/NeuralNetworkModel directory. To execute it you need the following arguments:\r\n",
      " \t\t--accuracyNeuralNetwork <string> <string>\r\n",
      "\t· The first string has to contain the name of the directory storing the pickels. For example, if the pickel you want to use is in the path:\r\n",
      " \t\t\tAssets/Dataset/Pickels/sign_gesture_gray_150x150px/sign_gesture_gray_150x150px_train.pkl\r\n",
      " \t  You will have to enter:\r\n",
      "\t\t\tsign_gesture_gray_150x150px\r\n",
      "\t· The second string specifies the type of Neural Network to train, the possibilities are:\r\n",
      "\t\t* nn: Basic Neural Network.\r\n",
      " \t\t* cnn: Convolutional Neural Network.\r\n",
      "\r\n",
      "* Decision Tree\r\n",
      "\t\t--decisionTree <string>\r\n",
      "\t· The first string has to contain the name of the directory storing the pickels. For example, if the pickel you want to use is in the path:\r\n",
      " \t\t\tAssets/Dataset/Pickels/sign_gesture_gray_150x150px/sign_gesture_gray_150x150px_train.pkl\r\n",
      " \t  You will have to enter:\r\n",
      "\t\t\tsign_gesture_gray_150x150px\r\n",
      "\r\n",
      "* Help:\r\n",
      "\tThis strategy will show all the needed arguments information in order to run this project. It needs the argument:\r\n",
      " \t\t--help\r\n",
      "[INFO]: Execution finished\r\n"
     ]
    }
   ],
   "source": [
    "!python3 Src/main.py --help"
   ]
  },
  {
   "cell_type": "markdown",
   "id": "46607ac2",
   "metadata": {},
   "source": [
    "## Execute the SaveDatabase strategy"
   ]
  },
  {
   "cell_type": "code",
   "execution_count": 5,
   "id": "f7d9b4b5",
   "metadata": {
    "scrolled": true
   },
   "outputs": [
    {
     "name": "stdout",
     "output_type": "stream",
     "text": [
      "[INFO]: Strategy selected: --saveDatabase\n",
      "[INFO]: Arguments entered: sign_gesture_color_150x150px, original, true, false\n",
      "[INFO]: Test and Train pickles have been created\n"
     ]
    }
   ],
   "source": [
    "!python3 Src/main.py --saveDatabase sign_gesture_color_150x150px original true false"
   ]
  },
  {
   "cell_type": "markdown",
   "id": "a326b5f5",
   "metadata": {},
   "source": [
    "## Execute the TrainNeuralNetwork strategy"
   ]
  },
  {
   "cell_type": "code",
   "execution_count": 8,
   "id": "78865031",
   "metadata": {
    "scrolled": true
   },
   "outputs": [
    {
     "name": "stdout",
     "output_type": "stream",
     "text": [
      "[INFO]: Strategy selected: --trainNeuralNetwork\r\n",
      "[INFO]: Arguments entered: sign_gesture_color_150x150px, nn\r\n",
      "[INFO]: Execute\r\n"
     ]
    }
   ],
   "source": [
    "!python3 Src/main.py --trainNeuralNetwork sign_gesture_color_150x150px nn"
   ]
  },
  {
   "cell_type": "markdown",
   "id": "95336153",
   "metadata": {},
   "source": [
    "## Execute the AccuracyNeuralNetwork strategy"
   ]
  },
  {
   "cell_type": "code",
   "execution_count": null,
   "id": "40e44b90",
   "metadata": {},
   "outputs": [],
   "source": [
    "!python3 Src/main.py --accuracyNeuralNetwork nn_sign_gesture_optimizer_150x150px_model nn"
   ]
  },
  {
   "cell_type": "markdown",
   "id": "10ca446b",
   "metadata": {},
   "source": [
    "## Execute the DecisionTree strategy"
   ]
  },
  {
   "cell_type": "code",
   "execution_count": 20,
   "id": "a6dd453e",
   "metadata": {},
   "outputs": [
    {
     "name": "stdout",
     "output_type": "stream",
     "text": [
      "[INFO]: Strategy selected: --decisionTree\n",
      "[INFO]: Arguments entered: sign_gesture_optimizer_150x150px\n",
      "/Users/margaliana/Documents/Salle/TFG/SignGestureDetection/Assets/Dataset/Pickels/sign_gesture_optimizer_150x150px/sign_gesture_optimizer_150x150px_train.pkl\n",
      "/Users/margaliana/Documents/Salle/TFG/SignGestureDetection/Assets/Dataset/Pickels/sign_gesture_optimizer_150x150px/sign_gesture_optimizer_150x150px_test.pkl\n",
      "/Users/margaliana/miniforge3/lib/python3.9/site-packages/xgboost/sklearn.py:1146: UserWarning: The use of label encoder in XGBClassifier is deprecated and will be removed in a future release. To remove this warning, do the following: 1) Pass option use_label_encoder=False when constructing XGBClassifier object; and 2) Encode your labels (y) as integers starting with 0, i.e. 0, 1, 2, ..., [num_class - 1].\n",
      "  warnings.warn(label_encoder_deprecation_msg, UserWarning)\n",
      "[09:26:17] WARNING: /Users/travis/build/dmlc/xgboost/src/learner.cc:1095: Starting in XGBoost 1.3.0, the default evaluation metric used with the objective 'multi:softprob' was changed from 'merror' to 'mlogloss'. Explicitly set eval_metric if you'd like to restore the old behavior.\n",
      "[0]\tvalidation_0-mlogloss:1.35172\n",
      "[1]\tvalidation_0-mlogloss:1.00649\n",
      "[2]\tvalidation_0-mlogloss:0.78168\n",
      "[3]\tvalidation_0-mlogloss:0.62446\n",
      "[4]\tvalidation_0-mlogloss:0.50840\n",
      "[5]\tvalidation_0-mlogloss:0.41410\n",
      "[6]\tvalidation_0-mlogloss:0.33784\n",
      "[7]\tvalidation_0-mlogloss:0.27993\n",
      "[8]\tvalidation_0-mlogloss:0.23411\n",
      "[9]\tvalidation_0-mlogloss:0.19542\n",
      "[10]\tvalidation_0-mlogloss:0.16486\n",
      "[11]\tvalidation_0-mlogloss:0.14175\n",
      "[12]\tvalidation_0-mlogloss:0.12288\n",
      "[13]\tvalidation_0-mlogloss:0.10874\n",
      "[14]\tvalidation_0-mlogloss:0.09466\n",
      "[15]\tvalidation_0-mlogloss:0.08300\n",
      "[16]\tvalidation_0-mlogloss:0.07276\n",
      "[17]\tvalidation_0-mlogloss:0.06448\n",
      "[18]\tvalidation_0-mlogloss:0.05703\n",
      "[19]\tvalidation_0-mlogloss:0.05051\n",
      "[20]\tvalidation_0-mlogloss:0.04534\n",
      "[21]\tvalidation_0-mlogloss:0.04070\n",
      "[22]\tvalidation_0-mlogloss:0.03680\n",
      "[23]\tvalidation_0-mlogloss:0.03329\n",
      "[24]\tvalidation_0-mlogloss:0.02995\n",
      "[25]\tvalidation_0-mlogloss:0.02684\n",
      "[26]\tvalidation_0-mlogloss:0.02452\n",
      "[27]\tvalidation_0-mlogloss:0.02210\n",
      "[28]\tvalidation_0-mlogloss:0.02025\n",
      "[29]\tvalidation_0-mlogloss:0.01832\n",
      "[30]\tvalidation_0-mlogloss:0.01655\n",
      "[31]\tvalidation_0-mlogloss:0.01536\n",
      "[32]\tvalidation_0-mlogloss:0.01420\n",
      "[33]\tvalidation_0-mlogloss:0.01311\n",
      "[34]\tvalidation_0-mlogloss:0.01213\n",
      "[35]\tvalidation_0-mlogloss:0.01126\n",
      "[36]\tvalidation_0-mlogloss:0.01058\n",
      "[37]\tvalidation_0-mlogloss:0.00988\n",
      "[38]\tvalidation_0-mlogloss:0.00925\n",
      "[39]\tvalidation_0-mlogloss:0.00874\n",
      "[40]\tvalidation_0-mlogloss:0.00826\n",
      "[41]\tvalidation_0-mlogloss:0.00773\n",
      "[42]\tvalidation_0-mlogloss:0.00730\n",
      "[43]\tvalidation_0-mlogloss:0.00689\n",
      "[44]\tvalidation_0-mlogloss:0.00653\n",
      "[45]\tvalidation_0-mlogloss:0.00620\n",
      "[46]\tvalidation_0-mlogloss:0.00594\n",
      "[47]\tvalidation_0-mlogloss:0.00571\n",
      "[48]\tvalidation_0-mlogloss:0.00545\n",
      "[49]\tvalidation_0-mlogloss:0.00519\n",
      "[50]\tvalidation_0-mlogloss:0.00493\n",
      "[51]\tvalidation_0-mlogloss:0.00471\n",
      "[52]\tvalidation_0-mlogloss:0.00452\n",
      "[53]\tvalidation_0-mlogloss:0.00439\n",
      "[54]\tvalidation_0-mlogloss:0.00422\n",
      "[55]\tvalidation_0-mlogloss:0.00408\n",
      "[56]\tvalidation_0-mlogloss:0.00398\n",
      "[57]\tvalidation_0-mlogloss:0.00385\n",
      "[58]\tvalidation_0-mlogloss:0.00374\n",
      "[59]\tvalidation_0-mlogloss:0.00364\n",
      "[60]\tvalidation_0-mlogloss:0.00354\n",
      "[61]\tvalidation_0-mlogloss:0.00346\n",
      "[62]\tvalidation_0-mlogloss:0.00334\n",
      "[63]\tvalidation_0-mlogloss:0.00327\n",
      "[64]\tvalidation_0-mlogloss:0.00318\n",
      "[65]\tvalidation_0-mlogloss:0.00310\n",
      "[66]\tvalidation_0-mlogloss:0.00301\n",
      "[67]\tvalidation_0-mlogloss:0.00295\n",
      "[68]\tvalidation_0-mlogloss:0.00289\n",
      "[69]\tvalidation_0-mlogloss:0.00284\n",
      "[70]\tvalidation_0-mlogloss:0.00279\n",
      "[71]\tvalidation_0-mlogloss:0.00273\n",
      "[72]\tvalidation_0-mlogloss:0.00268\n",
      "[73]\tvalidation_0-mlogloss:0.00264\n",
      "[74]\tvalidation_0-mlogloss:0.00260\n",
      "[75]\tvalidation_0-mlogloss:0.00255\n",
      "[76]\tvalidation_0-mlogloss:0.00251\n",
      "[77]\tvalidation_0-mlogloss:0.00248\n",
      "[78]\tvalidation_0-mlogloss:0.00244\n",
      "[79]\tvalidation_0-mlogloss:0.00241\n",
      "[80]\tvalidation_0-mlogloss:0.00238\n",
      "[81]\tvalidation_0-mlogloss:0.00234\n",
      "[82]\tvalidation_0-mlogloss:0.00230\n",
      "[83]\tvalidation_0-mlogloss:0.00226\n",
      "[84]\tvalidation_0-mlogloss:0.00223\n",
      "[85]\tvalidation_0-mlogloss:0.00220\n",
      "[86]\tvalidation_0-mlogloss:0.00216\n",
      "[87]\tvalidation_0-mlogloss:0.00214\n",
      "[88]\tvalidation_0-mlogloss:0.00212\n",
      "[89]\tvalidation_0-mlogloss:0.00209\n",
      "[90]\tvalidation_0-mlogloss:0.00206\n",
      "[91]\tvalidation_0-mlogloss:0.00204\n",
      "[92]\tvalidation_0-mlogloss:0.00201\n",
      "[93]\tvalidation_0-mlogloss:0.00199\n",
      "[94]\tvalidation_0-mlogloss:0.00198\n",
      "[95]\tvalidation_0-mlogloss:0.00195\n",
      "[96]\tvalidation_0-mlogloss:0.00193\n",
      "[97]\tvalidation_0-mlogloss:0.00190\n",
      "[98]\tvalidation_0-mlogloss:0.00189\n",
      "[99]\tvalidation_0-mlogloss:0.00187\n",
      "[INFO]: Finished training the decision tree\n",
      "[INFO]: Strategy executed successfully\n",
      "[INFO]: Execution finished\n"
     ]
    }
   ],
   "source": [
    "!python3 Src/main.py --decisionTree sign_gesture_optimizer_150x150px"
   ]
  },
  {
   "cell_type": "code",
   "execution_count": null,
   "id": "bfb302b7",
   "metadata": {},
   "outputs": [],
   "source": []
  }
 ],
 "metadata": {
  "kernelspec": {
   "display_name": "Python 3 (ipykernel)",
   "language": "python",
   "name": "python3"
  },
  "language_info": {
   "codemirror_mode": {
    "name": "ipython",
    "version": 3
   },
   "file_extension": ".py",
   "mimetype": "text/x-python",
   "name": "python",
   "nbconvert_exporter": "python",
   "pygments_lexer": "ipython3",
   "version": "3.9.2"
  }
 },
 "nbformat": 4,
 "nbformat_minor": 5
}
