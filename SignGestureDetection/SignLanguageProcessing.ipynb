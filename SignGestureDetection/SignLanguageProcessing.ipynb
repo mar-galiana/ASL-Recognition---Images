{
 "cells": [
  {
   "cell_type": "markdown",
   "id": "1e712584",
   "metadata": {
    "scrolled": true
   },
   "source": [
    "# Project pre-sets"
   ]
  },
  {
   "cell_type": "code",
   "execution_count": 3,
   "id": "c76b8b81",
   "metadata": {},
   "outputs": [
    {
     "name": "stdout",
     "output_type": "stream",
     "text": [
      "\u001b[33mWARNING: Value for scheme.headers does not match. Please report this to <https://github.com/pypa/pip/issues/9617>\n",
      "distutils: /Users/margaliana/miniforge3/include/python3.9/UNKNOWN\n",
      "sysconfig: /Users/margaliana/miniforge3/include/python3.9\u001b[0m\n",
      "\u001b[33mWARNING: Additional context:\n",
      "user = False\n",
      "home = None\n",
      "root = None\n",
      "prefix = None\u001b[0m\n",
      "Requirement already satisfied: numpy~=1.19.5 in /Users/margaliana/miniforge3/lib/python3.9/site-packages (from -r requirements.txt (line 1)) (1.19.5)\n",
      "Requirement already satisfied: pandas~=1.2.4 in /Users/margaliana/miniforge3/lib/python3.9/site-packages (from -r requirements.txt (line 2)) (1.2.4)\n",
      "Requirement already satisfied: scikit-learn~=0.24.2 in /Users/margaliana/miniforge3/lib/python3.9/site-packages (from -r requirements.txt (line 3)) (0.24.2)\n",
      "Requirement already satisfied: tensorflow~=2.5.0 in /Users/margaliana/miniforge3/lib/python3.9/site-packages (from -r requirements.txt (line 4)) (2.5.0)\n",
      "Requirement already satisfied: scikit-image~=0.18.1 in /Users/margaliana/miniforge3/lib/python3.9/site-packages (from -r requirements.txt (line 5)) (0.18.2)\n",
      "Requirement already satisfied: joblib~=1.0.1 in /Users/margaliana/miniforge3/lib/python3.9/site-packages (from -r requirements.txt (line 6)) (1.0.1)\n",
      "Requirement already satisfied: keras~=2.4.3 in /Users/margaliana/miniforge3/lib/python3.9/site-packages (from -r requirements.txt (line 7)) (2.4.3)\n",
      "Requirement already satisfied: matplotlib~=3.4.2 in /Users/margaliana/miniforge3/lib/python3.9/site-packages (from -r requirements.txt (line 8)) (3.4.2)\n",
      "Requirement already satisfied: xgboost in /Users/margaliana/miniforge3/lib/python3.9/site-packages (from -r requirements.txt (line 9)) (1.4.2)\n",
      "Requirement already satisfied: python-dateutil>=2.7.3 in /Users/margaliana/miniforge3/lib/python3.9/site-packages (from pandas~=1.2.4->-r requirements.txt (line 2)) (2.8.1)\n",
      "Requirement already satisfied: pytz>=2017.3 in /Users/margaliana/miniforge3/lib/python3.9/site-packages (from pandas~=1.2.4->-r requirements.txt (line 2)) (2021.1)\n",
      "Requirement already satisfied: scipy>=0.19.1 in /Users/margaliana/miniforge3/lib/python3.9/site-packages (from scikit-learn~=0.24.2->-r requirements.txt (line 3)) (1.6.3)\n",
      "Requirement already satisfied: threadpoolctl>=2.0.0 in /Users/margaliana/miniforge3/lib/python3.9/site-packages (from scikit-learn~=0.24.2->-r requirements.txt (line 3)) (2.1.0)\n",
      "Requirement already satisfied: wheel~=0.35 in /Users/margaliana/miniforge3/lib/python3.9/site-packages (from tensorflow~=2.5.0->-r requirements.txt (line 4)) (0.36.2)\n",
      "Requirement already satisfied: keras-preprocessing~=1.1.2 in /Users/margaliana/miniforge3/lib/python3.9/site-packages (from tensorflow~=2.5.0->-r requirements.txt (line 4)) (1.1.2)\n",
      "Requirement already satisfied: keras-nightly~=2.5.0.dev in /Users/margaliana/miniforge3/lib/python3.9/site-packages (from tensorflow~=2.5.0->-r requirements.txt (line 4)) (2.5.0.dev2021032900)\n",
      "Requirement already satisfied: gast==0.4.0 in /Users/margaliana/miniforge3/lib/python3.9/site-packages (from tensorflow~=2.5.0->-r requirements.txt (line 4)) (0.4.0)\n",
      "Requirement already satisfied: termcolor~=1.1.0 in /Users/margaliana/miniforge3/lib/python3.9/site-packages (from tensorflow~=2.5.0->-r requirements.txt (line 4)) (1.1.0)\n",
      "Requirement already satisfied: protobuf>=3.9.2 in /Users/margaliana/miniforge3/lib/python3.9/site-packages (from tensorflow~=2.5.0->-r requirements.txt (line 4)) (3.15.8)\n",
      "Requirement already satisfied: wrapt~=1.12.1 in /Users/margaliana/miniforge3/lib/python3.9/site-packages (from tensorflow~=2.5.0->-r requirements.txt (line 4)) (1.12.1)\n",
      "Requirement already satisfied: tensorflow-estimator<2.6.0,>=2.5.0rc0 in /Users/margaliana/miniforge3/lib/python3.9/site-packages (from tensorflow~=2.5.0->-r requirements.txt (line 4)) (2.5.0rc0)\n",
      "Requirement already satisfied: absl-py~=0.10 in /Users/margaliana/miniforge3/lib/python3.9/site-packages (from tensorflow~=2.5.0->-r requirements.txt (line 4)) (0.12.0)\n",
      "Requirement already satisfied: astunparse~=1.6.3 in /Users/margaliana/miniforge3/lib/python3.9/site-packages (from tensorflow~=2.5.0->-r requirements.txt (line 4)) (1.6.3)\n",
      "Requirement already satisfied: typing-extensions~=3.7.4 in /Users/margaliana/miniforge3/lib/python3.9/site-packages (from tensorflow~=2.5.0->-r requirements.txt (line 4)) (3.7.4.3)\n",
      "Requirement already satisfied: flatbuffers~=1.12.0 in /Users/margaliana/miniforge3/lib/python3.9/site-packages (from tensorflow~=2.5.0->-r requirements.txt (line 4)) (1.12)\n",
      "Requirement already satisfied: grpcio~=1.34.0 in /Users/margaliana/miniforge3/lib/python3.9/site-packages (from tensorflow~=2.5.0->-r requirements.txt (line 4)) (1.34.1)\n",
      "Requirement already satisfied: six~=1.15.0 in /Users/margaliana/miniforge3/lib/python3.9/site-packages (from tensorflow~=2.5.0->-r requirements.txt (line 4)) (1.15.0)\n",
      "Requirement already satisfied: google-pasta~=0.2 in /Users/margaliana/miniforge3/lib/python3.9/site-packages (from tensorflow~=2.5.0->-r requirements.txt (line 4)) (0.2.0)\n",
      "Requirement already satisfied: h5py~=3.1.0 in /Users/margaliana/miniforge3/lib/python3.9/site-packages (from tensorflow~=2.5.0->-r requirements.txt (line 4)) (3.1.0)\n",
      "Requirement already satisfied: tensorboard~=2.5 in /Users/margaliana/miniforge3/lib/python3.9/site-packages (from tensorflow~=2.5.0->-r requirements.txt (line 4)) (2.5.0)\n",
      "Requirement already satisfied: opt-einsum~=3.3.0 in /Users/margaliana/miniforge3/lib/python3.9/site-packages (from tensorflow~=2.5.0->-r requirements.txt (line 4)) (3.3.0)\n",
      "Requirement already satisfied: imageio>=2.3.0 in /Users/margaliana/miniforge3/lib/python3.9/site-packages (from scikit-image~=0.18.1->-r requirements.txt (line 5)) (2.9.0)\n",
      "Requirement already satisfied: PyWavelets>=1.1.1 in /Users/margaliana/miniforge3/lib/python3.9/site-packages (from scikit-image~=0.18.1->-r requirements.txt (line 5)) (1.1.1)\n",
      "Requirement already satisfied: tifffile>=2019.7.26 in /Users/margaliana/miniforge3/lib/python3.9/site-packages (from scikit-image~=0.18.1->-r requirements.txt (line 5)) (2021.7.30)\n",
      "Requirement already satisfied: networkx>=2.0 in /Users/margaliana/miniforge3/lib/python3.9/site-packages (from scikit-image~=0.18.1->-r requirements.txt (line 5)) (2.6.2)\n",
      "Requirement already satisfied: pillow!=7.1.0,!=7.1.1,>=4.3.0 in /Users/margaliana/miniforge3/lib/python3.9/site-packages (from scikit-image~=0.18.1->-r requirements.txt (line 5)) (8.3.1)\n",
      "Requirement already satisfied: pyyaml in /Users/margaliana/miniforge3/lib/python3.9/site-packages (from keras~=2.4.3->-r requirements.txt (line 7)) (5.4.1)\n",
      "Requirement already satisfied: kiwisolver>=1.0.1 in /Users/margaliana/miniforge3/lib/python3.9/site-packages (from matplotlib~=3.4.2->-r requirements.txt (line 8)) (1.3.1)\n",
      "Requirement already satisfied: pyparsing>=2.2.1 in /Users/margaliana/miniforge3/lib/python3.9/site-packages (from matplotlib~=3.4.2->-r requirements.txt (line 8)) (2.4.7)\n",
      "Requirement already satisfied: cycler>=0.10 in /Users/margaliana/miniforge3/lib/python3.9/site-packages (from matplotlib~=3.4.2->-r requirements.txt (line 8)) (0.10.0)\n",
      "Requirement already satisfied: tensorboard-plugin-wit>=1.6.0 in /Users/margaliana/miniforge3/lib/python3.9/site-packages (from tensorboard~=2.5->tensorflow~=2.5.0->-r requirements.txt (line 4)) (1.8.0)\n",
      "Requirement already satisfied: tensorboard-data-server<0.7.0,>=0.6.0 in /Users/margaliana/miniforge3/lib/python3.9/site-packages (from tensorboard~=2.5->tensorflow~=2.5.0->-r requirements.txt (line 4)) (0.6.0)\n",
      "Requirement already satisfied: werkzeug>=0.11.15 in /Users/margaliana/miniforge3/lib/python3.9/site-packages (from tensorboard~=2.5->tensorflow~=2.5.0->-r requirements.txt (line 4)) (1.0.1)\n",
      "Requirement already satisfied: google-auth-oauthlib<0.5,>=0.4.1 in /Users/margaliana/miniforge3/lib/python3.9/site-packages (from tensorboard~=2.5->tensorflow~=2.5.0->-r requirements.txt (line 4)) (0.4.4)\n",
      "Requirement already satisfied: requests<3,>=2.21.0 in /Users/margaliana/miniforge3/lib/python3.9/site-packages (from tensorboard~=2.5->tensorflow~=2.5.0->-r requirements.txt (line 4)) (2.25.1)\n",
      "Requirement already satisfied: google-auth<2,>=1.6.3 in /Users/margaliana/miniforge3/lib/python3.9/site-packages (from tensorboard~=2.5->tensorflow~=2.5.0->-r requirements.txt (line 4)) (1.30.0)\n",
      "Requirement already satisfied: markdown>=2.6.8 in /Users/margaliana/miniforge3/lib/python3.9/site-packages (from tensorboard~=2.5->tensorflow~=2.5.0->-r requirements.txt (line 4)) (3.3.4)\n",
      "Requirement already satisfied: setuptools>=41.0.0 in /Users/margaliana/miniforge3/lib/python3.9/site-packages (from tensorboard~=2.5->tensorflow~=2.5.0->-r requirements.txt (line 4)) (49.6.0.post20210108)\n",
      "Requirement already satisfied: cachetools<5.0,>=2.0.0 in /Users/margaliana/miniforge3/lib/python3.9/site-packages (from google-auth<2,>=1.6.3->tensorboard~=2.5->tensorflow~=2.5.0->-r requirements.txt (line 4)) (4.2.2)\n",
      "Requirement already satisfied: pyasn1-modules>=0.2.1 in /Users/margaliana/miniforge3/lib/python3.9/site-packages (from google-auth<2,>=1.6.3->tensorboard~=2.5->tensorflow~=2.5.0->-r requirements.txt (line 4)) (0.2.8)\n",
      "Requirement already satisfied: rsa<5,>=3.1.4 in /Users/margaliana/miniforge3/lib/python3.9/site-packages (from google-auth<2,>=1.6.3->tensorboard~=2.5->tensorflow~=2.5.0->-r requirements.txt (line 4)) (4.7.2)\n",
      "Requirement already satisfied: requests-oauthlib>=0.7.0 in /Users/margaliana/miniforge3/lib/python3.9/site-packages (from google-auth-oauthlib<0.5,>=0.4.1->tensorboard~=2.5->tensorflow~=2.5.0->-r requirements.txt (line 4)) (1.3.0)\n"
     ]
    },
    {
     "name": "stdout",
     "output_type": "stream",
     "text": [
      "Requirement already satisfied: pyasn1<0.5.0,>=0.4.6 in /Users/margaliana/miniforge3/lib/python3.9/site-packages (from pyasn1-modules>=0.2.1->google-auth<2,>=1.6.3->tensorboard~=2.5->tensorflow~=2.5.0->-r requirements.txt (line 4)) (0.4.8)\n",
      "Requirement already satisfied: certifi>=2017.4.17 in /Users/margaliana/miniforge3/lib/python3.9/site-packages (from requests<3,>=2.21.0->tensorboard~=2.5->tensorflow~=2.5.0->-r requirements.txt (line 4)) (2020.12.5)\n",
      "Requirement already satisfied: chardet<5,>=3.0.2 in /Users/margaliana/miniforge3/lib/python3.9/site-packages (from requests<3,>=2.21.0->tensorboard~=2.5->tensorflow~=2.5.0->-r requirements.txt (line 4)) (4.0.0)\n",
      "Requirement already satisfied: urllib3<1.27,>=1.21.1 in /Users/margaliana/miniforge3/lib/python3.9/site-packages (from requests<3,>=2.21.0->tensorboard~=2.5->tensorflow~=2.5.0->-r requirements.txt (line 4)) (1.26.4)\n",
      "Requirement already satisfied: idna<3,>=2.5 in /Users/margaliana/miniforge3/lib/python3.9/site-packages (from requests<3,>=2.21.0->tensorboard~=2.5->tensorflow~=2.5.0->-r requirements.txt (line 4)) (2.10)\n",
      "Requirement already satisfied: oauthlib>=3.0.0 in /Users/margaliana/miniforge3/lib/python3.9/site-packages (from requests-oauthlib>=0.7.0->google-auth-oauthlib<0.5,>=0.4.1->tensorboard~=2.5->tensorflow~=2.5.0->-r requirements.txt (line 4)) (3.1.0)\n",
      "\u001b[33mWARNING: Value for scheme.headers does not match. Please report this to <https://github.com/pypa/pip/issues/9617>\n",
      "distutils: /Users/margaliana/miniforge3/include/python3.9/UNKNOWN\n",
      "sysconfig: /Users/margaliana/miniforge3/include/python3.9\u001b[0m\n",
      "\u001b[33mWARNING: Additional context:\n",
      "user = False\n",
      "home = None\n",
      "root = None\n",
      "prefix = None\u001b[0m\n",
      "Note: you may need to restart the kernel to use updated packages.\n"
     ]
    }
   ],
   "source": [
    "pip install -r requirements.txt "
   ]
  },
  {
   "cell_type": "markdown",
   "id": "e0fe1f1a",
   "metadata": {},
   "source": [
    "# Executions"
   ]
  },
  {
   "cell_type": "markdown",
   "id": "74ce1642",
   "metadata": {},
   "source": [
    "## Execute the Help strategy"
   ]
  },
  {
   "cell_type": "code",
   "execution_count": null,
   "id": "fdf7c6d8",
   "metadata": {},
   "outputs": [],
   "source": [
    "!python3 Src/main.py --help"
   ]
  },
  {
   "cell_type": "markdown",
   "id": "46607ac2",
   "metadata": {},
   "source": [
    "## Execute the SaveDatabase strategy"
   ]
  },
  {
   "cell_type": "code",
   "execution_count": null,
   "id": "f7d9b4b5",
   "metadata": {},
   "outputs": [],
   "source": [
    "!python3 Src/main.py --saveDatabase sign_gesture_gray_150x150px true true"
   ]
  },
  {
   "cell_type": "markdown",
   "id": "95336153",
   "metadata": {},
   "source": [
    "## Execute the AccuracyNeuralNetwork strategy"
   ]
  },
  {
   "cell_type": "code",
   "execution_count": null,
   "id": "40e44b90",
   "metadata": {},
   "outputs": [],
   "source": [
    "!python3 Src/main.py --accuracyNeuralNetwork nn_sign_gesture_optimizer_150x150px_model nn"
   ]
  }
 ],
 "metadata": {
  "kernelspec": {
   "display_name": "Python 3 (ipykernel)",
   "language": "python",
   "name": "python3"
  },
  "language_info": {
   "codemirror_mode": {
    "name": "ipython",
    "version": 3
   },
   "file_extension": ".py",
   "mimetype": "text/x-python",
   "name": "python",
   "nbconvert_exporter": "python",
   "pygments_lexer": "ipython3",
   "version": "3.9.2"
  }
 },
 "nbformat": 4,
 "nbformat_minor": 5
}
